{
 "cells": [
  {
   "cell_type": "markdown",
   "metadata": {},
   "source": [
    "# MetroPT-3 Dataset\n",
    "\n",
    "El **MetroPT-3 Dataset** es un conjunto de datos multivariado y temporal diseñado para tareas de mantenimiento predictivo, detección de anomalías y estimación de vida útil remanente (RUL) en compresores de unidades de producción de aire (APU) de trenes. Los datos se registraron entre febrero y agosto de 2020 a una frecuencia de 1Hz, proporcionando 15 características extraídas de sensores analógicos y digitales. Contiene información sin etiquetar, pero se acompañan reportes de fallas para evaluar modelos.\n",
    "\n",
    "---\n",
    "\n",
    "## Descripción de las columnas (atributos):\n",
    "\n",
    "- **TP2 (bar):** Presión en el compresor.\n",
    "- **TP3 (bar):** Presión generada en el panel neumático.\n",
    "- **H1 (bar):** Presión causada por la caída al descargar el filtro separador ciclónico.\n",
    "- **DV Pressure (bar):** Presión de descarga en secadores de aire (valor 0 indica operación bajo carga).\n",
    "- **Reservoirs (bar):** Presión en los depósitos, debe aproximarse a TP3.\n",
    "- **Motor Current (A):** Corriente de un motor trifásico:\n",
    "  - `0A`: Apagado.\n",
    "  - `4A`: Sin carga.\n",
    "  - `7A`: Bajo carga.\n",
    "  - `9A`: Encendido.\n",
    "- **Oil Temperature (ºC):** Temperatura del aceite en el compresor.\n",
    "- **COMP:** Señal eléctrica de la válvula de admisión de aire; indica estado apagado o sin carga.\n",
    "- **DV Electric:** Señal eléctrica que controla la válvula de salida del compresor; activa bajo carga.\n",
    "- **TOWERS:** Señal que identifica la torre activa para secado o drenaje de humedad:\n",
    "  - **Inactiva:** Torre 1.\n",
    "  - **Activa:** Torre 2.\n",
    "- **MPG:** Señal para iniciar el compresor bajo carga si la presión cae por debajo de 8.2 bar.\n",
    "- **LPS:** Señal que activa cuando la presión baja de 7 bar.\n",
    "- **Pressure Switch:** Señal que detecta descargas en torres de secado de aire.\n",
    "- **Oil Level:** Señal que detecta niveles de aceite bajos.\n",
    "- **Caudal Impulse:** Pulso generado por el flujo de aire hacia los depósitos."
   ]
  },
  {
   "cell_type": "code",
   "execution_count": 1,
   "metadata": {},
   "outputs": [],
   "source": [
    "import polars as pl\n",
    "import seaborn as sns\n",
    "import matplotlib.pyplot as plt"
   ]
  },
  {
   "cell_type": "markdown",
   "metadata": {},
   "source": [
    "# Lectura y descripción de datos\n",
    "Leemos los datos y sacamos estadísticos básicos, así como porcentaje de nulos y alguna limpieza básica inicial."
   ]
  },
  {
   "cell_type": "code",
   "execution_count": 2,
   "metadata": {},
   "outputs": [
    {
     "name": "stdout",
     "output_type": "stream",
     "text": [
      "(1516948, 17)\n",
      "['', 'timestamp', 'TP2', 'TP3', 'H1', 'DV_pressure', 'Reservoirs', 'Oil_temperature', 'Motor_current', 'COMP', 'DV_eletric', 'Towers', 'MPG', 'LPS', 'Pressure_switch', 'Oil_level', 'Caudal_impulses']\n",
      "shape: (9, 18)\n",
      "┌───────────┬───────────┬───────────┬───────────┬───┬───────────┬───────────┬───────────┬──────────┐\n",
      "│ statistic ┆           ┆ timestamp ┆ TP2       ┆ … ┆ LPS       ┆ Pressure_ ┆ Oil_level ┆ Caudal_i │\n",
      "│ ---       ┆ ---       ┆ ---       ┆ ---       ┆   ┆ ---       ┆ switch    ┆ ---       ┆ mpulses  │\n",
      "│ str       ┆ f64       ┆ str       ┆ f64       ┆   ┆ f64       ┆ ---       ┆ f64       ┆ ---      │\n",
      "│           ┆           ┆           ┆           ┆   ┆           ┆ f64       ┆           ┆ f64      │\n",
      "╞═══════════╪═══════════╪═══════════╪═══════════╪═══╪═══════════╪═══════════╪═══════════╪══════════╡\n",
      "│ count     ┆ 1.516948e ┆ 1516948   ┆ 1.516948e ┆ … ┆ 1.516948e ┆ 1.516948e ┆ 1.516948e ┆ 1.516948 │\n",
      "│           ┆ 6         ┆           ┆ 6         ┆   ┆ 6         ┆ 6         ┆ 6         ┆ e6       │\n",
      "│ null_coun ┆ 0.0       ┆ 0         ┆ 0.0       ┆ … ┆ 0.0       ┆ 0.0       ┆ 0.0       ┆ 0.0      │\n",
      "│ t         ┆           ┆           ┆           ┆   ┆           ┆           ┆           ┆          │\n",
      "│ mean      ┆ 7.584735e ┆ null      ┆ 1.367826  ┆ … ┆ 0.00342   ┆ 0.991437  ┆ 0.904156  ┆ 0.937107 │\n",
      "│           ┆ 6         ┆           ┆           ┆   ┆           ┆           ┆           ┆          │\n",
      "│ std       ┆ 4.3791e6  ┆ null      ┆ 3.25093   ┆ … ┆ 0.058381  ┆ 0.092141  ┆ 0.294378  ┆ 0.242771 │\n",
      "│ min       ┆ 0.0       ┆ 2020-02-0 ┆ -0.032    ┆ … ┆ 0.0       ┆ 0.0       ┆ 0.0       ┆ 0.0      │\n",
      "│           ┆           ┆ 1         ┆           ┆   ┆           ┆           ┆           ┆          │\n",
      "│           ┆           ┆ 00:00:00  ┆           ┆   ┆           ┆           ┆           ┆          │\n",
      "│ 25%       ┆ 3.79237e6 ┆ null      ┆ -0.014    ┆ … ┆ 0.0       ┆ 1.0       ┆ 1.0       ┆ 1.0      │\n",
      "│ 50%       ┆ 7.58474e6 ┆ null      ┆ -0.012    ┆ … ┆ 0.0       ┆ 1.0       ┆ 1.0       ┆ 1.0      │\n",
      "│ 75%       ┆ 1.13771e7 ┆ null      ┆ -0.01     ┆ … ┆ 0.0       ┆ 1.0       ┆ 1.0       ┆ 1.0      │\n",
      "│ max       ┆ 1.516947e ┆ 2020-09-0 ┆ 10.676    ┆ … ┆ 1.0       ┆ 1.0       ┆ 1.0       ┆ 1.0      │\n",
      "│           ┆ 7         ┆ 1         ┆           ┆   ┆           ┆           ┆           ┆          │\n",
      "│           ┆           ┆ 03:59:50  ┆           ┆   ┆           ┆           ┆           ┆          │\n",
      "└───────────┴───────────┴───────────┴───────────┴───┴───────────┴───────────┴───────────┴──────────┘\n",
      "shape: (1, 17)\n",
      "┌─────┬───────────┬─────┬─────┬───┬─────┬─────────────────┬───────────┬─────────────────┐\n",
      "│     ┆ timestamp ┆ TP2 ┆ TP3 ┆ … ┆ LPS ┆ Pressure_switch ┆ Oil_level ┆ Caudal_impulses │\n",
      "│ --- ┆ ---       ┆ --- ┆ --- ┆   ┆ --- ┆ ---             ┆ ---       ┆ ---             │\n",
      "│ u32 ┆ u32       ┆ u32 ┆ u32 ┆   ┆ u32 ┆ u32             ┆ u32       ┆ u32             │\n",
      "╞═════╪═══════════╪═════╪═════╪═══╪═════╪═════════════════╪═══════════╪═════════════════╡\n",
      "│ 0   ┆ 0         ┆ 0   ┆ 0   ┆ … ┆ 0   ┆ 0               ┆ 0         ┆ 0               │\n",
      "└─────┴───────────┴─────┴─────┴───┴─────┴─────────────────┴───────────┴─────────────────┘\n",
      "Column: , Type: Int64\n",
      "Column: timestamp, Type: String\n",
      "Column: TP2, Type: Float64\n",
      "Column: TP3, Type: Float64\n",
      "Column: H1, Type: Float64\n",
      "Column: DV_pressure, Type: Float64\n",
      "Column: Reservoirs, Type: Float64\n",
      "Column: Oil_temperature, Type: Float64\n",
      "Column: Motor_current, Type: Float64\n",
      "Column: COMP, Type: Float64\n",
      "Column: DV_eletric, Type: Float64\n",
      "Column: Towers, Type: Float64\n",
      "Column: MPG, Type: Float64\n",
      "Column: LPS, Type: Float64\n",
      "Column: Pressure_switch, Type: Float64\n",
      "Column: Oil_level, Type: Float64\n",
      "Column: Caudal_impulses, Type: Float64\n",
      "15\n",
      "shape: (9, 16)\n",
      "┌───────────┬───────────┬───────────┬───────────┬───┬───────────┬───────────┬───────────┬──────────┐\n",
      "│ statistic ┆ TP2       ┆ TP3       ┆ H1        ┆ … ┆ LPS       ┆ Pressure_ ┆ Oil_level ┆ Caudal_i │\n",
      "│ ---       ┆ ---       ┆ ---       ┆ ---       ┆   ┆ ---       ┆ switch    ┆ ---       ┆ mpulses  │\n",
      "│ str       ┆ f64       ┆ f64       ┆ f64       ┆   ┆ f64       ┆ ---       ┆ f64       ┆ ---      │\n",
      "│           ┆           ┆           ┆           ┆   ┆           ┆ f64       ┆           ┆ f64      │\n",
      "╞═══════════╪═══════════╪═══════════╪═══════════╪═══╪═══════════╪═══════════╪═══════════╪══════════╡\n",
      "│ count     ┆ 1.516948e ┆ 1.516948e ┆ 1.516948e ┆ … ┆ 1.516948e ┆ 1.516948e ┆ 1.516948e ┆ 1.516948 │\n",
      "│           ┆ 6         ┆ 6         ┆ 6         ┆   ┆ 6         ┆ 6         ┆ 6         ┆ e6       │\n",
      "│ null_coun ┆ 0.0       ┆ 0.0       ┆ 0.0       ┆ … ┆ 0.0       ┆ 0.0       ┆ 0.0       ┆ 0.0      │\n",
      "│ t         ┆           ┆           ┆           ┆   ┆           ┆           ┆           ┆          │\n",
      "│ mean      ┆ 1.367826  ┆ 8.984611  ┆ 7.568155  ┆ … ┆ 0.00342   ┆ 0.991437  ┆ 0.904156  ┆ 0.937107 │\n",
      "│ std       ┆ 3.25093   ┆ 0.639095  ┆ 3.3332    ┆ … ┆ 0.058381  ┆ 0.092141  ┆ 0.294378  ┆ 0.242771 │\n",
      "│ min       ┆ -0.032    ┆ 0.73      ┆ -0.036    ┆ … ┆ 0.0       ┆ 0.0       ┆ 0.0       ┆ 0.0      │\n",
      "│ 25%       ┆ -0.014    ┆ 8.492     ┆ 8.254     ┆ … ┆ 0.0       ┆ 1.0       ┆ 1.0       ┆ 1.0      │\n",
      "│ 50%       ┆ -0.012    ┆ 8.96      ┆ 8.784     ┆ … ┆ 0.0       ┆ 1.0       ┆ 1.0       ┆ 1.0      │\n",
      "│ 75%       ┆ -0.01     ┆ 9.492     ┆ 9.374     ┆ … ┆ 0.0       ┆ 1.0       ┆ 1.0       ┆ 1.0      │\n",
      "│ max       ┆ 10.676    ┆ 10.302    ┆ 10.288    ┆ … ┆ 1.0       ┆ 1.0       ┆ 1.0       ┆ 1.0      │\n",
      "└───────────┴───────────┴───────────┴───────────┴───┴───────────┴───────────┴───────────┴──────────┘\n"
     ]
    }
   ],
   "source": [
    "# ----- Read data ----- #\n",
    "csv_path = \"MetroPT3(AirCompressor).csv\"\n",
    "data = pl.read_csv(csv_path)\n",
    "\n",
    "# ----- Summarizing data ----- #\n",
    "print(data.shape)\n",
    "print(data.columns)\n",
    "print(data.describe())\n",
    "print(data.null_count())\n",
    "for col, dtype in zip(data.columns, data.dtypes):\n",
    "    print(f\"Column: {col}, Type: {dtype}\")\n",
    "\n",
    "# ----- Cleaning data ----- #\n",
    "# Columns that are not features\n",
    "data = data.drop(pl.col(\"\"), pl.col(\"timestamp\"))\n",
    "print(len(data.columns))\n",
    "print(data.describe())"
   ]
  },
  {
   "cell_type": "code",
   "execution_count": null,
   "metadata": {},
   "outputs": [],
   "source": []
  }
 ],
 "metadata": {
  "kernelspec": {
   "display_name": ".venv",
   "language": "python",
   "name": "python3"
  },
  "language_info": {
   "codemirror_mode": {
    "name": "ipython",
    "version": 3
   },
   "file_extension": ".py",
   "mimetype": "text/x-python",
   "name": "python",
   "nbconvert_exporter": "python",
   "pygments_lexer": "ipython3",
   "version": "3.12.8"
  }
 },
 "nbformat": 4,
 "nbformat_minor": 2
}

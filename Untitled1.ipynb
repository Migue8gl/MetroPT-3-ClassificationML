{
 "cells": [
  {
   "cell_type": "markdown",
   "id": "0fda97e0-b602-4615-930f-ad497ba42060",
   "metadata": {},
   "source": [
    "# MÉTODO SVM + BAGGING\n",
    "\n",
    "Tras preprocesar los datos, es hora de implementar el modelo de clasificación SVM y, seguidamente, diferentes modelos de bagging para la precisión. Antes de comenzar con el modelo de clasificación, se han implementado todas las bibliotecas que son necesarias para todo el código y se han observado las primeras líneas del conjunto ya preprocesado."
   ]
  },
  {
   "cell_type": "code",
   "execution_count": 1,
   "id": "95a9d375-8711-4952-bd10-1e2a41c82a8a",
   "metadata": {},
   "outputs": [
    {
     "name": "stdout",
     "output_type": "stream",
     "text": [
      "     id  TP2_mean   TP2_max   TP2_min  TP2_median  TP3_mean   TP3_max  \\\n",
      "0   218 -0.617889 -0.617889 -0.617889   -0.617889 -0.047516 -0.047516   \n",
      "1    79 -1.016661 -1.016661 -1.016661   -1.016661 -0.115374 -0.115374   \n",
      "2   538 -1.021409 -1.021409 -1.021409   -1.021409 -0.082052 -0.082052   \n",
      "3  4848  0.142652  0.142652  0.142652    0.142652  0.114354  0.114354   \n",
      "4  4505 -0.291480 -0.291480 -0.291480   -0.291480  0.028539  0.028539   \n",
      "\n",
      "    TP3_min  TP3_median   H1_mean  ...  Oil_level_median  \\\n",
      "0 -0.047516   -0.047516  0.601018  ...          0.095844   \n",
      "1 -0.115374   -0.115374  0.930239  ...          0.095844   \n",
      "2 -0.082052   -0.082052  0.966176  ...          0.095844   \n",
      "3  0.114354    0.114354 -0.057371  ...          0.095844   \n",
      "4  0.028539    0.028539  0.327444  ...          0.095844   \n",
      "\n",
      "   Caudal_impulses_mean  Caudal_impulses_max  Caudal_impulses_min  \\\n",
      "0              0.062893             0.062893             0.062893   \n",
      "1              0.062893             0.062893             0.062893   \n",
      "2              0.062893             0.062893             0.062893   \n",
      "3              0.062893             0.062893             0.062893   \n",
      "4              0.062893             0.062893             0.062893   \n",
      "\n",
      "   Caudal_impulses_median  Motor_State_mean  Motor_State_max  Motor_State_min  \\\n",
      "0                0.062893         -0.040803        -0.040803        -0.040803   \n",
      "1                0.062893         -0.249465        -0.249465        -0.249465   \n",
      "2                0.062893         -0.249465        -0.249465        -0.249465   \n",
      "3                0.062893          0.094831         0.094831         0.094831   \n",
      "4                0.062893         -0.064425        -0.064425        -0.064425   \n",
      "\n",
      "   Motor_State_median  is_anomaly  \n",
      "0           -0.040803       False  \n",
      "1           -0.249465       False  \n",
      "2           -0.249465       False  \n",
      "3            0.094831       False  \n",
      "4           -0.064425       False  \n",
      "\n",
      "[5 rows x 66 columns]\n"
     ]
    }
   ],
   "source": [
    "import numpy as np\n",
    "import pandas as pd\n",
    "#Para escalar los datos\n",
    "from sklearn.preprocessing import StandardScaler\n",
    "#Ppara el modelo SVM\n",
    "from sklearn.svm import SVC\n",
    "from sklearn.model_selection import train_test_split, GridSearchCV\n",
    "from sklearn.metrics import classification_report, confusion_matrix\n",
    "#Para los diferentes tipos de bagging\n",
    "\n",
    "\n",
    "df = pd.read_csv(\"datos_procesados.csv\")\n",
    "print(df.head())"
   ]
  },
  {
   "cell_type": "markdown",
   "id": "827b7769-8540-4756-bd07-695dc7081fad",
   "metadata": {},
   "source": [
    "## 1. SVM\n",
    "\n",
    "Para el modelo SVM, se ha seleccionado en una variable X las características de los datos y en una variable y las etiquetas (\"True\" si hay un fallo o \"False\" si no lo hay). Seguidamente, se han noralizado estas variables y se han separado en conjuntos de entrenamiento y test."
   ]
  },
  {
   "cell_type": "code",
   "execution_count": 3,
   "id": "09ba8061-6ea6-482e-a453-308e55d0be38",
   "metadata": {},
   "outputs": [],
   "source": [
    "#Separación entre X e Y\n",
    "#Eliminar también la columna de identificación\n",
    "X = df.drop(columns=[\"id\", \"is_anomaly\"]) \n",
    "y = df[\"is_anomaly\"].astype(int) \n",
    "\n",
    "# Dividir en conjunto de entrenamiento y prueba\n",
    "X_train, X_test, y_train, y_test = train_test_split(X, y, test_size=0.2, random_state=42, stratify=y)"
   ]
  },
  {
   "cell_type": "code",
   "execution_count": 13,
   "id": "0d7f9c5c-0392-4ec8-b376-d51c1832772e",
   "metadata": {},
   "outputs": [],
   "source": [
    "# Escalar los datos\n",
    "scaler = StandardScaler()\n",
    "X_train_scaled = scaler.fit_transform(X_train)\n",
    "X_test_scaled = scaler.transform(X_test)"
   ]
  },
  {
   "cell_type": "markdown",
   "id": "186e08be-6439-4013-8570-dd73e973242c",
   "metadata": {},
   "source": [
    "A continuación, se ha implementado el modelo SVM con GridSearch para encontrar el mejor modelo"
   ]
  },
  {
   "cell_type": "code",
   "execution_count": 24,
   "id": "dc61f1fa-5a44-40fc-bff7-16c2e97f25d7",
   "metadata": {},
   "outputs": [],
   "source": [
    "# Configurar SVM con búsqueda de hiperparámetros\n",
    "param_grid = {\n",
    "    \"C\": [0.1, 1, 10, 100],\n",
    "    \"gamma\": [0.001, 0.01, 0.1, 1],\n",
    "    \"kernel\": [\"rbf\"]\n",
    "}\n",
    "\n",
    "grid_search = GridSearchCV(SVC(), param_grid, cv=5, scoring=\"accuracy\")\n",
    "grid_search.fit(X_train_scaled, y_train)\n",
    "\n",
    "# Mejor modelo\n",
    "best_svm = grid_search.best_estimator_"
   ]
  },
  {
   "cell_type": "code",
   "execution_count": 26,
   "id": "37968d80-55ae-48b8-9655-44f3d6d37a0e",
   "metadata": {},
   "outputs": [
    {
     "name": "stdout",
     "output_type": "stream",
     "text": [
      "Best Parameters: {'C': 10, 'gamma': 0.1, 'kernel': 'rbf'}\n",
      "\n",
      "Classification Report:\n",
      "               precision    recall  f1-score   support\n",
      "\n",
      "           0       0.99      1.00      0.99      1217\n",
      "           1       0.84      0.74      0.79        35\n",
      "\n",
      "    accuracy                           0.99      1252\n",
      "   macro avg       0.92      0.87      0.89      1252\n",
      "weighted avg       0.99      0.99      0.99      1252\n",
      "\n",
      "\n",
      "Confusion Matrix:\n",
      " [[1212    5]\n",
      " [   9   26]]\n"
     ]
    }
   ],
   "source": [
    "# Evaluar en datos de prueba\n",
    "y_pred = best_svm.predict(X_test_scaled)\n",
    "\n",
    "# Reporte de métricas\n",
    "print(\"Best Parameters:\", grid_search.best_params_)\n",
    "print(\"\\nClassification Report:\\n\", classification_report(y_test, y_pred))\n",
    "print(\"\\nConfusion Matrix:\\n\", confusion_matrix(y_test, y_pred))"
   ]
  },
  {
   "cell_type": "markdown",
   "id": "8647072d-40bf-4cef-a906-fc2b5ffba7f4",
   "metadata": {},
   "source": [
    "## 2. Bagging\n",
    "\n",
    "posteriormente, se han implementado diversos tipos de bagging (random forest, ...)"
   ]
  },
  {
   "cell_type": "code",
   "execution_count": 29,
   "id": "4fc9fe34-de0b-41ff-986b-d49ff95594e9",
   "metadata": {},
   "outputs": [
    {
     "name": "stdout",
     "output_type": "stream",
     "text": [
      "Random Forest Classification Report:\n",
      "               precision    recall  f1-score   support\n",
      "\n",
      "           0       0.99      1.00      0.99      1217\n",
      "           1       0.81      0.71      0.76        35\n",
      "\n",
      "    accuracy                           0.99      1252\n",
      "   macro avg       0.90      0.85      0.88      1252\n",
      "weighted avg       0.99      0.99      0.99      1252\n",
      "\n",
      "Random Forest Confusion Matrix:\n",
      " [[1211    6]\n",
      " [  10   25]]\n"
     ]
    }
   ],
   "source": [
    "from sklearn.ensemble import RandomForestClassifier\n",
    "from sklearn.metrics import classification_report, confusion_matrix\n",
    "\n",
    "# Entrenamiento del modelo Random Forest\n",
    "rf_model = RandomForestClassifier(n_estimators=100, random_state=42)\n",
    "rf_model.fit(X_train, y_train)\n",
    "\n",
    "# Predicciones y evaluación\n",
    "y_pred_rf = rf_model.predict(X_test)\n",
    "\n",
    "# Resultados\n",
    "print(\"Random Forest Classification Report:\\n\", classification_report(y_test, y_pred_rf))\n",
    "print(\"Random Forest Confusion Matrix:\\n\", confusion_matrix(y_test, y_pred_rf))"
   ]
  },
  {
   "cell_type": "code",
   "execution_count": 33,
   "id": "940d843b-cd2a-4673-94aa-92d42f661be3",
   "metadata": {},
   "outputs": [
    {
     "name": "stdout",
     "output_type": "stream",
     "text": [
      "Extra Trees Classification Report:\n",
      "               precision    recall  f1-score   support\n",
      "\n",
      "           0       0.99      1.00      0.99      1217\n",
      "           1       0.83      0.71      0.77        35\n",
      "\n",
      "    accuracy                           0.99      1252\n",
      "   macro avg       0.91      0.86      0.88      1252\n",
      "weighted avg       0.99      0.99      0.99      1252\n",
      "\n",
      "Extra Trees Confusion Matrix:\n",
      " [[1212    5]\n",
      " [  10   25]]\n"
     ]
    }
   ],
   "source": [
    "from sklearn.ensemble import ExtraTreesClassifier\n",
    "\n",
    "# Entrenamiento del modelo Extra Trees\n",
    "et_model = ExtraTreesClassifier(n_estimators=100, random_state=42)\n",
    "et_model.fit(X_train, y_train)\n",
    "\n",
    "# Predicciones y evaluación\n",
    "y_pred_et = et_model.predict(X_test)\n",
    "\n",
    "# Resultados\n",
    "print(\"Extra Trees Classification Report:\\n\", classification_report(y_test, y_pred_et))\n",
    "print(\"Extra Trees Confusion Matrix:\\n\", confusion_matrix(y_test, y_pred_et))"
   ]
  },
  {
   "cell_type": "code",
   "execution_count": 35,
   "id": "00e51fdf-e38a-412e-a312-a8116115aad4",
   "metadata": {},
   "outputs": [
    {
     "name": "stdout",
     "output_type": "stream",
     "text": [
      "Random Subspaces Classification Report:\n",
      "               precision    recall  f1-score   support\n",
      "\n",
      "           0       0.99      0.99      0.99      1217\n",
      "           1       0.73      0.69      0.71        35\n",
      "\n",
      "    accuracy                           0.98      1252\n",
      "   macro avg       0.86      0.84      0.85      1252\n",
      "weighted avg       0.98      0.98      0.98      1252\n",
      "\n",
      "Random Subspaces Confusion Matrix:\n",
      " [[1208    9]\n",
      " [  11   24]]\n"
     ]
    }
   ],
   "source": [
    "from sklearn.ensemble import BaggingClassifier\n",
    "from sklearn.tree import DecisionTreeClassifier\n",
    "from sklearn.metrics import classification_report, confusion_matrix\n",
    "\n",
    "# Configuración del modelo base (árbol de decisión) y Bagging con subespacios aleatorios\n",
    "base_model = DecisionTreeClassifier(random_state=42)\n",
    "random_subspaces_model = BaggingClassifier(\n",
    "    estimator=base_model,  # Cambiado de base_estimator a estimator\n",
    "    max_features=0.5,      # Usar 50% de las características aleatorias\n",
    "    n_estimators=100,\n",
    "    random_state=42\n",
    ")\n",
    "\n",
    "# Entrenamiento\n",
    "random_subspaces_model.fit(X_train, y_train)\n",
    "\n",
    "# Predicciones y evaluación\n",
    "y_pred_rs = random_subspaces_model.predict(X_test)\n",
    "\n",
    "# Resultados\n",
    "print(\"Random Subspaces Classification Report:\\n\", classification_report(y_test, y_pred_rs))\n",
    "print(\"Random Subspaces Confusion Matrix:\\n\", confusion_matrix(y_test, y_pred_rs))"
   ]
  },
  {
   "cell_type": "code",
   "execution_count": null,
   "id": "dfae4524-f2b5-43c4-8c90-7f362f226a00",
   "metadata": {},
   "outputs": [],
   "source": []
  }
 ],
 "metadata": {
  "kernelspec": {
   "display_name": "Python 3 (ipykernel)",
   "language": "python",
   "name": "python3"
  },
  "language_info": {
   "codemirror_mode": {
    "name": "ipython",
    "version": 3
   },
   "file_extension": ".py",
   "mimetype": "text/x-python",
   "name": "python",
   "nbconvert_exporter": "python",
   "pygments_lexer": "ipython3",
   "version": "3.12.4"
  }
 },
 "nbformat": 4,
 "nbformat_minor": 5
}

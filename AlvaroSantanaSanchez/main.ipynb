{
 "cells": [
  {
   "metadata": {},
   "cell_type": "raw",
   "source": "",
   "id": "cb925f9acd3e9947"
  },
  {
   "cell_type": "code",
   "id": "initial_id",
   "metadata": {
    "collapsed": true,
    "ExecuteTime": {
     "end_time": "2025-01-11T18:11:27.960165Z",
     "start_time": "2025-01-11T18:11:27.632199Z"
    }
   },
   "source": [
    "from datetime import datetime\n",
    "\n",
    "import polars as pl\n",
    "import plotly.express as px\n",
    "from matplotlib import pyplot as plt\n",
    "\n",
    "#Lectura de los datos\n",
    "data = pl.read_csv(\"../data/data.csv\")\n",
    "date_format = \"%Y-%m-%d %H:%M:%S\"\n",
    "data = data.with_columns(pl.col(\"timestamp\").str.strptime(pl.Datetime, format=date_format),\n",
    "                         pl.col(\"Motor_current\").map_elements(lambda x: 0 if x < 0.05 else 1).cast(pl.Float64).alias(\n",
    "                             \"Motor_State\"))\n",
    "\n",
    "data.head(5)"
   ],
   "outputs": [
    {
     "data": {
      "text/plain": [
       "shape: (5, 18)\n",
       "┌─────┬───────────────┬────────┬───────┬───┬──────────────┬───────────┬──────────────┬─────────────┐\n",
       "│     ┆ timestamp     ┆ TP2    ┆ TP3   ┆ … ┆ Pressure_swi ┆ Oil_level ┆ Caudal_impul ┆ Motor_State │\n",
       "│ --- ┆ ---           ┆ ---    ┆ ---   ┆   ┆ tch          ┆ ---       ┆ ses          ┆ ---         │\n",
       "│ i64 ┆ datetime[μs]  ┆ f64    ┆ f64   ┆   ┆ ---          ┆ f64       ┆ ---          ┆ f64         │\n",
       "│     ┆               ┆        ┆       ┆   ┆ f64          ┆           ┆ f64          ┆             │\n",
       "╞═════╪═══════════════╪════════╪═══════╪═══╪══════════════╪═══════════╪══════════════╪═════════════╡\n",
       "│ 0   ┆ 2020-02-01    ┆ -0.012 ┆ 9.358 ┆ … ┆ 1.0          ┆ 1.0       ┆ 1.0          ┆ 0.0         │\n",
       "│     ┆ 00:00:00      ┆        ┆       ┆   ┆              ┆           ┆              ┆             │\n",
       "│ 10  ┆ 2020-02-01    ┆ -0.014 ┆ 9.348 ┆ … ┆ 1.0          ┆ 1.0       ┆ 1.0          ┆ 0.0         │\n",
       "│     ┆ 00:00:10      ┆        ┆       ┆   ┆              ┆           ┆              ┆             │\n",
       "│ 20  ┆ 2020-02-01    ┆ -0.012 ┆ 9.338 ┆ … ┆ 1.0          ┆ 1.0       ┆ 1.0          ┆ 0.0         │\n",
       "│     ┆ 00:00:19      ┆        ┆       ┆   ┆              ┆           ┆              ┆             │\n",
       "│ 30  ┆ 2020-02-01    ┆ -0.012 ┆ 9.328 ┆ … ┆ 1.0          ┆ 1.0       ┆ 1.0          ┆ 0.0         │\n",
       "│     ┆ 00:00:29      ┆        ┆       ┆   ┆              ┆           ┆              ┆             │\n",
       "│ 40  ┆ 2020-02-01    ┆ -0.012 ┆ 9.318 ┆ … ┆ 1.0          ┆ 1.0       ┆ 1.0          ┆ 0.0         │\n",
       "│     ┆ 00:00:39      ┆        ┆       ┆   ┆              ┆           ┆              ┆             │\n",
       "└─────┴───────────────┴────────┴───────┴───┴──────────────┴───────────┴──────────────┴─────────────┘"
      ],
      "text/html": [
       "<div><style>\n",
       ".dataframe > thead > tr > th,\n",
       ".dataframe > tbody > tr > td {\n",
       "  text-align: right;\n",
       "  white-space: pre-wrap;\n",
       "}\n",
       "</style>\n",
       "<small>shape: (5, 18)</small><table border=\"1\" class=\"dataframe\"><thead><tr><th></th><th>timestamp</th><th>TP2</th><th>TP3</th><th>H1</th><th>DV_pressure</th><th>Reservoirs</th><th>Oil_temperature</th><th>Motor_current</th><th>COMP</th><th>DV_eletric</th><th>Towers</th><th>MPG</th><th>LPS</th><th>Pressure_switch</th><th>Oil_level</th><th>Caudal_impulses</th><th>Motor_State</th></tr><tr><td>i64</td><td>datetime[μs]</td><td>f64</td><td>f64</td><td>f64</td><td>f64</td><td>f64</td><td>f64</td><td>f64</td><td>f64</td><td>f64</td><td>f64</td><td>f64</td><td>f64</td><td>f64</td><td>f64</td><td>f64</td><td>f64</td></tr></thead><tbody><tr><td>0</td><td>2020-02-01 00:00:00</td><td>-0.012</td><td>9.358</td><td>9.34</td><td>-0.024</td><td>9.358</td><td>53.6</td><td>0.04</td><td>1.0</td><td>0.0</td><td>1.0</td><td>1.0</td><td>0.0</td><td>1.0</td><td>1.0</td><td>1.0</td><td>0.0</td></tr><tr><td>10</td><td>2020-02-01 00:00:10</td><td>-0.014</td><td>9.348</td><td>9.332</td><td>-0.022</td><td>9.348</td><td>53.675</td><td>0.04</td><td>1.0</td><td>0.0</td><td>1.0</td><td>1.0</td><td>0.0</td><td>1.0</td><td>1.0</td><td>1.0</td><td>0.0</td></tr><tr><td>20</td><td>2020-02-01 00:00:19</td><td>-0.012</td><td>9.338</td><td>9.322</td><td>-0.022</td><td>9.338</td><td>53.6</td><td>0.0425</td><td>1.0</td><td>0.0</td><td>1.0</td><td>1.0</td><td>0.0</td><td>1.0</td><td>1.0</td><td>1.0</td><td>0.0</td></tr><tr><td>30</td><td>2020-02-01 00:00:29</td><td>-0.012</td><td>9.328</td><td>9.312</td><td>-0.022</td><td>9.328</td><td>53.425</td><td>0.04</td><td>1.0</td><td>0.0</td><td>1.0</td><td>1.0</td><td>0.0</td><td>1.0</td><td>1.0</td><td>1.0</td><td>0.0</td></tr><tr><td>40</td><td>2020-02-01 00:00:39</td><td>-0.012</td><td>9.318</td><td>9.302</td><td>-0.022</td><td>9.318</td><td>53.475</td><td>0.04</td><td>1.0</td><td>0.0</td><td>1.0</td><td>1.0</td><td>0.0</td><td>1.0</td><td>1.0</td><td>1.0</td><td>0.0</td></tr></tbody></table></div>"
      ]
     },
     "execution_count": 352,
     "metadata": {},
     "output_type": "execute_result"
    }
   ],
   "execution_count": 352
  },
  {
   "metadata": {
    "ExecuteTime": {
     "end_time": "2025-01-11T18:11:28.572574Z",
     "start_time": "2025-01-11T18:11:28.402640Z"
    }
   },
   "cell_type": "code",
   "source": "data.select(pl.col(pl.Float64)).describe()",
   "id": "f6a6568f43fe5897",
   "outputs": [
    {
     "data": {
      "text/plain": [
       "shape: (9, 17)\n",
       "┌───────────┬───────────┬───────────┬───────────┬───┬───────────┬───────────┬───────────┬──────────┐\n",
       "│ describe  ┆ TP2       ┆ TP3       ┆ H1        ┆ … ┆ Pressure_ ┆ Oil_level ┆ Caudal_im ┆ Motor_St │\n",
       "│ ---       ┆ ---       ┆ ---       ┆ ---       ┆   ┆ switch    ┆ ---       ┆ pulses    ┆ ate      │\n",
       "│ str       ┆ f64       ┆ f64       ┆ f64       ┆   ┆ ---       ┆ f64       ┆ ---       ┆ ---      │\n",
       "│           ┆           ┆           ┆           ┆   ┆ f64       ┆           ┆ f64       ┆ f64      │\n",
       "╞═══════════╪═══════════╪═══════════╪═══════════╪═══╪═══════════╪═══════════╪═══════════╪══════════╡\n",
       "│ count     ┆ 1.516948e ┆ 1.516948e ┆ 1.516948e ┆ … ┆ 1.516948e ┆ 1.516948e ┆ 1.516948e ┆ 1.516948 │\n",
       "│           ┆ 6         ┆ 6         ┆ 6         ┆   ┆ 6         ┆ 6         ┆ 6         ┆ e6       │\n",
       "│ null_coun ┆ 0.0       ┆ 0.0       ┆ 0.0       ┆ … ┆ 0.0       ┆ 0.0       ┆ 0.0       ┆ 0.0      │\n",
       "│ t         ┆           ┆           ┆           ┆   ┆           ┆           ┆           ┆          │\n",
       "│ mean      ┆ 1.367826  ┆ 8.984611  ┆ 7.568155  ┆ … ┆ 0.991437  ┆ 0.904156  ┆ 0.937107  ┆ 0.454189 │\n",
       "│ std       ┆ 3.25093   ┆ 0.639095  ┆ 3.3332    ┆ … ┆ 0.092141  ┆ 0.294378  ┆ 0.242771  ┆ 0.497897 │\n",
       "│ min       ┆ -0.032    ┆ 0.73      ┆ -0.036    ┆ … ┆ 0.0       ┆ 0.0       ┆ 0.0       ┆ 0.0      │\n",
       "│ 25%       ┆ -0.014    ┆ 8.492     ┆ 8.254     ┆ … ┆ 1.0       ┆ 1.0       ┆ 1.0       ┆ 0.0      │\n",
       "│ 50%       ┆ -0.012    ┆ 8.96      ┆ 8.784     ┆ … ┆ 1.0       ┆ 1.0       ┆ 1.0       ┆ 0.0      │\n",
       "│ 75%       ┆ -0.01     ┆ 9.492     ┆ 9.374     ┆ … ┆ 1.0       ┆ 1.0       ┆ 1.0       ┆ 1.0      │\n",
       "│ max       ┆ 10.676    ┆ 10.302    ┆ 10.288    ┆ … ┆ 1.0       ┆ 1.0       ┆ 1.0       ┆ 1.0      │\n",
       "└───────────┴───────────┴───────────┴───────────┴───┴───────────┴───────────┴───────────┴──────────┘"
      ],
      "text/html": [
       "<div><style>\n",
       ".dataframe > thead > tr > th,\n",
       ".dataframe > tbody > tr > td {\n",
       "  text-align: right;\n",
       "  white-space: pre-wrap;\n",
       "}\n",
       "</style>\n",
       "<small>shape: (9, 17)</small><table border=\"1\" class=\"dataframe\"><thead><tr><th>describe</th><th>TP2</th><th>TP3</th><th>H1</th><th>DV_pressure</th><th>Reservoirs</th><th>Oil_temperature</th><th>Motor_current</th><th>COMP</th><th>DV_eletric</th><th>Towers</th><th>MPG</th><th>LPS</th><th>Pressure_switch</th><th>Oil_level</th><th>Caudal_impulses</th><th>Motor_State</th></tr><tr><td>str</td><td>f64</td><td>f64</td><td>f64</td><td>f64</td><td>f64</td><td>f64</td><td>f64</td><td>f64</td><td>f64</td><td>f64</td><td>f64</td><td>f64</td><td>f64</td><td>f64</td><td>f64</td><td>f64</td></tr></thead><tbody><tr><td>&quot;count&quot;</td><td>1.516948e6</td><td>1.516948e6</td><td>1.516948e6</td><td>1.516948e6</td><td>1.516948e6</td><td>1.516948e6</td><td>1.516948e6</td><td>1.516948e6</td><td>1.516948e6</td><td>1.516948e6</td><td>1.516948e6</td><td>1.516948e6</td><td>1.516948e6</td><td>1.516948e6</td><td>1.516948e6</td><td>1.516948e6</td></tr><tr><td>&quot;null_count&quot;</td><td>0.0</td><td>0.0</td><td>0.0</td><td>0.0</td><td>0.0</td><td>0.0</td><td>0.0</td><td>0.0</td><td>0.0</td><td>0.0</td><td>0.0</td><td>0.0</td><td>0.0</td><td>0.0</td><td>0.0</td><td>0.0</td></tr><tr><td>&quot;mean&quot;</td><td>1.367826</td><td>8.984611</td><td>7.568155</td><td>0.055956</td><td>8.985233</td><td>62.644182</td><td>2.050171</td><td>0.836957</td><td>0.160611</td><td>0.919848</td><td>0.832664</td><td>0.00342</td><td>0.991437</td><td>0.904156</td><td>0.937107</td><td>0.454189</td></tr><tr><td>&quot;std&quot;</td><td>3.25093</td><td>0.639095</td><td>3.3332</td><td>0.382402</td><td>0.638307</td><td>6.516261</td><td>2.302053</td><td>0.369405</td><td>0.367172</td><td>0.271528</td><td>0.373276</td><td>0.058381</td><td>0.092141</td><td>0.294378</td><td>0.242771</td><td>0.497897</td></tr><tr><td>&quot;min&quot;</td><td>-0.032</td><td>0.73</td><td>-0.036</td><td>-0.032</td><td>0.712</td><td>15.4</td><td>0.02</td><td>0.0</td><td>0.0</td><td>0.0</td><td>0.0</td><td>0.0</td><td>0.0</td><td>0.0</td><td>0.0</td><td>0.0</td></tr><tr><td>&quot;25%&quot;</td><td>-0.014</td><td>8.492</td><td>8.254</td><td>-0.022</td><td>8.494</td><td>57.775</td><td>0.04</td><td>1.0</td><td>0.0</td><td>1.0</td><td>1.0</td><td>0.0</td><td>1.0</td><td>1.0</td><td>1.0</td><td>0.0</td></tr><tr><td>&quot;50%&quot;</td><td>-0.012</td><td>8.96</td><td>8.784</td><td>-0.02</td><td>8.96</td><td>62.7</td><td>0.045</td><td>1.0</td><td>0.0</td><td>1.0</td><td>1.0</td><td>0.0</td><td>1.0</td><td>1.0</td><td>1.0</td><td>0.0</td></tr><tr><td>&quot;75%&quot;</td><td>-0.01</td><td>9.492</td><td>9.374</td><td>-0.018</td><td>9.492</td><td>67.25</td><td>3.8075</td><td>1.0</td><td>0.0</td><td>1.0</td><td>1.0</td><td>0.0</td><td>1.0</td><td>1.0</td><td>1.0</td><td>1.0</td></tr><tr><td>&quot;max&quot;</td><td>10.676</td><td>10.302</td><td>10.288</td><td>9.844</td><td>10.3</td><td>89.05</td><td>9.295</td><td>1.0</td><td>1.0</td><td>1.0</td><td>1.0</td><td>1.0</td><td>1.0</td><td>1.0</td><td>1.0</td><td>1.0</td></tr></tbody></table></div>"
      ]
     },
     "execution_count": 353,
     "metadata": {},
     "output_type": "execute_result"
    }
   ],
   "execution_count": 353
  },
  {
   "metadata": {
    "ExecuteTime": {
     "end_time": "2025-01-11T18:11:28.918059Z",
     "start_time": "2025-01-11T18:11:28.907059Z"
    }
   },
   "cell_type": "code",
   "source": [
    "anomalys = [\n",
    "    (datetime(2020, 4, 12, 11, 50, 0), datetime(2020, 4, 12, 23, 30, 0)),\n",
    "    (datetime(2020, 4, 18, 0, 0, 0), datetime(2020, 4, 18, 23, 59, 0)),\n",
    "    (datetime(2020, 4, 19, 3, 20, 0), datetime(2020, 4, 19, 1, 30, 0)),\n",
    "    (datetime(2020, 4, 29, 22, 0, 0), datetime(2020, 4, 29, 22, 20, 0)),\n",
    "    (datetime(2020, 5, 13, 14, 0, 0), datetime(2020, 5, 13, 23, 59, 0)),\n",
    "    (datetime(2020, 5, 18, 5, 0, 0), datetime(2020, 5, 18, 5, 30, 0)),\n",
    "    (datetime(2020, 5, 19, 10, 10, 0), datetime(2020, 5, 19, 11, 0, 0)),\n",
    "    (datetime(2020, 5, 20, 0, 0, 0), datetime(2020, 5, 20, 0, 0, 0)),\n",
    "    (datetime(2020, 5, 23, 9, 50, 0), datetime(2020, 5, 23, 10, 10, 0)),\n",
    "    (datetime(2020, 5, 29, 23, 30, 0), datetime(2020, 5, 29, 23, 59, 0)),\n",
    "    (datetime(2020, 5, 30, 0, 0, 0), datetime(2020, 5, 30, 6, 0, 0)),\n",
    "    (datetime(2020, 6, 1, 15, 0, 0), datetime(2020, 6, 1, 15, 40, 0)),\n",
    "    (datetime(2020, 6, 3, 15, 0, 0), datetime(2020, 6, 3, 11, 0, 0)),\n",
    "    (datetime(2020, 6, 3, 15, 0, 0), datetime(2020, 6, 3, 11, 0, 0)),\n",
    "    (datetime(2020, 6, 5, 10, 0, 0), datetime(2020, 6, 5, 23, 59, 0)),\n",
    "    (datetime(2020, 6, 6, 0, 0, 0), datetime(2020, 6, 6, 23, 59, 0)),\n",
    "    (datetime(2020, 6, 7, 0, 0, 0), datetime(2020, 6, 7, 15, 30, 0)),\n",
    "    (datetime(2020, 7, 8, 17, 30, 0), datetime(2020, 7, 8, 21, 0, 0)),\n",
    "    (datetime(2020, 7, 15, 14, 30, 0), datetime(2020, 7, 15, 19, 0, 0)),\n",
    "    (datetime(2020, 7, 17, 4, 30, 0), datetime(2020, 7, 17, 5, 30, 0)),\n",
    "]"
   ],
   "id": "b8d57cb38f0e20e8",
   "outputs": [],
   "execution_count": 354
  },
  {
   "metadata": {
    "ExecuteTime": {
     "end_time": "2025-01-11T18:11:33.292183Z",
     "start_time": "2025-01-11T18:11:29.901514Z"
    }
   },
   "cell_type": "code",
   "source": [
    "def is_anomaly(instance_date, anomalys_intevals: list[datetime]):\n",
    "    flag_anomaly = False\n",
    "    index = 0\n",
    "    while not flag_anomaly and index < len(anomalys_intevals):\n",
    "        t = anomalys[index]\n",
    "        if instance_date > t[0] and instance_date < t[1]:\n",
    "            flag_anomaly = True\n",
    "        index += 1\n",
    "\n",
    "    return flag_anomaly\n",
    "\n",
    "\n",
    "data = data.with_columns(pl.col(\"timestamp\").map_elements(lambda x: is_anomaly(x, anomalys)).alias(\"is_anomaly\"))"
   ],
   "id": "47adb858b8f38a4a",
   "outputs": [],
   "execution_count": 355
  },
  {
   "metadata": {
    "ExecuteTime": {
     "end_time": "2025-01-11T18:24:39.114725Z",
     "start_time": "2025-01-11T18:24:39.039619Z"
    }
   },
   "cell_type": "code",
   "source": [
    "data_no_anomaly = data.with_columns(\n",
    "    (pl.col(\"is_anomaly\").shift(-1)).alias(\"next_is_anomaly\"),\n",
    ")\n",
    "data_no_anomaly = data_no_anomaly.with_columns(\n",
    "    (pl.col(\"is_anomaly\") != pl.col(\"next_is_anomaly\")).alias(\"group\")\n",
    ")\n",
    "\n",
    "data_no_anomaly = data_no_anomaly.with_columns(\n",
    "    pl.col(\"group\").cumsum().name.keep()\n",
    ")\n",
    "\n",
    "data_no_anomaly = data_no_anomaly.filter(pl.col(\"group\") % 2 == 0)\n",
    "\n",
    "data_cicles = data_no_anomaly.with_columns(\n",
    "    (pl.col(\"Motor_State\").shift(-1)).alias(\"next_motor_state\"),\n",
    ").filter(\n",
    "    (pl.col(\"Motor_State\") == 0) & (pl.col(\"next_motor_state\") == 1)\n",
    ")\n",
    "\n",
    "data_cicles = data_cicles.with_columns(\n",
    "    (pl.col(\"timestamp\").shift(1)).alias(\"last_moment\"),\n",
    "    (pl.col(\"group\").shift(1)).alias(\"last_group\"),\n",
    ")\n",
    "\n",
    "data_cicles = data_cicles.filter(pl.col(\"group\") == pl.col(\"last_group\")).with_columns((pl.col(\"timestamp\") - pl.col(\"last_moment\")).alias(\"tiempo_ciclo\"))\n",
    "data_cicles.filter(pl.col(\"tiempo_ciclo\") == pl.col(\"tiempo_ciclo\").max())\n"
   ],
   "id": "3b38061bd73990a6",
   "outputs": [
    {
     "data": {
      "text/plain": [
       "shape: (1, 25)\n",
       "┌──────────┬─────────────┬────────┬───────┬───┬─────────────┬────────────┬────────────┬────────────┐\n",
       "│          ┆ timestamp   ┆ TP2    ┆ TP3   ┆ … ┆ next_motor_ ┆ last_momen ┆ last_group ┆ tiempo_cic │\n",
       "│ ---      ┆ ---         ┆ ---    ┆ ---   ┆   ┆ state       ┆ t          ┆ ---        ┆ lo         │\n",
       "│ i64      ┆ datetime[μs ┆ f64    ┆ f64   ┆   ┆ ---         ┆ ---        ┆ u32        ┆ ---        │\n",
       "│          ┆ ]           ┆        ┆       ┆   ┆ f64         ┆ datetime[μ ┆            ┆ duration[μ │\n",
       "│          ┆             ┆        ┆       ┆   ┆             ┆ s]         ┆            ┆ s]         │\n",
       "╞══════════╪═════════════╪════════╪═══════╪═══╪═════════════╪════════════╪════════════╪════════════╡\n",
       "│ 10371080 ┆ 2020-06-25  ┆ -0.014 ┆ 8.072 ┆ … ┆ 1.0         ┆ 2020-06-22 ┆ 26         ┆ 2d 14h 14m │\n",
       "│          ┆ 05:20:13    ┆        ┆       ┆   ┆             ┆ 15:05:31   ┆            ┆ 42s        │\n",
       "└──────────┴─────────────┴────────┴───────┴───┴─────────────┴────────────┴────────────┴────────────┘"
      ],
      "text/html": [
       "<div><style>\n",
       ".dataframe > thead > tr > th,\n",
       ".dataframe > tbody > tr > td {\n",
       "  text-align: right;\n",
       "  white-space: pre-wrap;\n",
       "}\n",
       "</style>\n",
       "<small>shape: (1, 25)</small><table border=\"1\" class=\"dataframe\"><thead><tr><th></th><th>timestamp</th><th>TP2</th><th>TP3</th><th>H1</th><th>DV_pressure</th><th>Reservoirs</th><th>Oil_temperature</th><th>Motor_current</th><th>COMP</th><th>DV_eletric</th><th>Towers</th><th>MPG</th><th>LPS</th><th>Pressure_switch</th><th>Oil_level</th><th>Caudal_impulses</th><th>Motor_State</th><th>is_anomaly</th><th>next_is_anomaly</th><th>group</th><th>next_motor_state</th><th>last_moment</th><th>last_group</th><th>tiempo_ciclo</th></tr><tr><td>i64</td><td>datetime[μs]</td><td>f64</td><td>f64</td><td>f64</td><td>f64</td><td>f64</td><td>f64</td><td>f64</td><td>f64</td><td>f64</td><td>f64</td><td>f64</td><td>f64</td><td>f64</td><td>f64</td><td>f64</td><td>f64</td><td>bool</td><td>bool</td><td>u32</td><td>f64</td><td>datetime[μs]</td><td>u32</td><td>duration[μs]</td></tr></thead><tbody><tr><td>10371080</td><td>2020-06-25 05:20:13</td><td>-0.014</td><td>8.072</td><td>8.062</td><td>-0.024</td><td>8.074</td><td>58.8</td><td>0.0425</td><td>1.0</td><td>0.0</td><td>1.0</td><td>1.0</td><td>0.0</td><td>1.0</td><td>1.0</td><td>1.0</td><td>0.0</td><td>false</td><td>false</td><td>26</td><td>1.0</td><td>2020-06-22 15:05:31</td><td>26</td><td>2d 14h 14m 42s</td></tr></tbody></table></div>"
      ]
     },
     "execution_count": 365,
     "metadata": {},
     "output_type": "execute_result"
    }
   ],
   "execution_count": 365
  },
  {
   "metadata": {},
   "cell_type": "code",
   "source": [
    "def plot_ts(data_to_plot: pl.DataFrame, columns: str, time_window: tuple[int],\n",
    "            title=\"Series temporales\"):\n",
    "    \"\"\"\n",
    "    Funcion que permite plotear series temporales en distintos rangos de tiempo. Las series aparecen superpuestas y en formato HTML que permite hacer zoom.\n",
    "    \n",
    "    ...\n",
    "    \n",
    "    Attributes\n",
    "    ---\n",
    "        :param data_to_plot: Datos que plotear\n",
    "        :param columns: nombre de las columnas a seleccionar\n",
    "        :param time_window: instantes que se quieren plotear \n",
    "        :param title: titulo del graficp\n",
    "        \n",
    "    Returns\n",
    "    ---\n",
    "        Gráfico con las series temporales\n",
    "    \"\"\"\n",
    "\n",
    "    #Lectura de los datos\n",
    "    import pandas as pd\n",
    "\n",
    "    if data_to_plot.is_empty():\n",
    "        raise ValueError(\"DataFrame de entrada vacio\")\n",
    "\n",
    "    if len(columns) < 1:\n",
    "        raise ValueError(\"Seleccione alguna columna\")\n",
    "\n",
    "    if time_window[0] > time_window[1]:\n",
    "        time_window = time_window[::-1]\n",
    "\n",
    "    df = pd.DataFrame()\n",
    "    number_of_points = time_window[1] - time_window[0]\n",
    "    df[\"instance\"] = range(time_window[0], time_window[1])\n",
    "    df[\"variable\"] = \"prediction\"\n",
    "    df[\"value\"] = data_to_plot.select(columns[0])[time_window[0]:time_window[1]]\n",
    "    if len(columns) > 1:\n",
    "        index = 0\n",
    "        for c in columns[0:]:\n",
    "            values = data_to_plot.select(c).to_series().to_list()[time_window[0]:time_window[1]]\n",
    "            for i in range(0, number_of_points):\n",
    "                df.loc[index + i] = [i, c, values[i]]\n",
    "\n",
    "            index += number_of_points\n",
    "\n",
    "    #Creacion de la figura con la serie temporal\n",
    "\n",
    "    plt.figure(1)\n",
    "    fig = px.line(df, x=\"instance\", y=\"value\", title=title, color=\"variable\")\n",
    "    fig.update_yaxes(\n",
    "        fixedrange=False\n",
    "    )\n",
    "    fig.update_xaxes(\n",
    "        rangeslider_visible=True,\n",
    "        rangeselector=dict(\n",
    "            buttons=list([\n",
    "                dict(count=1, label=\"1y\", step=\"year\", stepmode=\"backward\"),\n",
    "                dict(count=2, label=\"2y\", step=\"year\", stepmode=\"backward\"),\n",
    "                dict(count=3, label=\"3y\", step=\"year\", stepmode=\"backward\"),\n",
    "                dict(step=\"all\")\n",
    "            ])\n",
    "        )\n",
    "    )\n",
    "    fig.show()\n",
    "\n"
   ],
   "id": "df8a350e1eccea89",
   "outputs": [],
   "execution_count": null
  },
  {
   "metadata": {},
   "cell_type": "code",
   "source": [
    "from sklearn.preprocessing import StandardScaler\n",
    "\n",
    "Scaler = StandardScaler(with_mean=True, with_std=False)\n",
    "Scaler.fit(X=data.select(pl.col(pl.Float64)))\n",
    "data_scaled = pl.DataFrame(Scaler.transform(data.select(pl.col(pl.Float64))))\n",
    "col_names = data.select(pl.col(pl.Float64)).columns\n",
    "data_scaled.columns = col_names\n",
    "data_scaled = data.select(pl.exclude(col_names)).hstack(data_scaled)\n",
    "data_scaled = data"
   ],
   "id": "755e7f5b7a22b79d",
   "outputs": [],
   "execution_count": null
  },
  {
   "metadata": {},
   "cell_type": "code",
   "source": [
    "\n",
    "import datetime\n",
    "\n",
    "data_day_one = data_scaled.filter(pl.col(\"timestamp\") < datetime.datetime(2020, 2, 2, 0, 0, 0))\n",
    "plot_ts(data_day_one, columns=[\"TP3\", \"Motor_current\", \"MPG\", \"COMP\", \"DV_eletric\"], time_window=data_day_one.shape)\n"
   ],
   "id": "3d1e98fd0d3c070f",
   "outputs": [],
   "execution_count": null
  },
  {
   "metadata": {
    "ExecuteTime": {
     "end_time": "2025-01-11T18:11:21.547353Z",
     "start_time": "2025-01-11T18:09:56.295436Z"
    }
   },
   "cell_type": "code",
   "source": [
    "data_anomaly = data.filter(pl.col(\"timestamp\").is_between(\n",
    "    datetime(2020, 6, 5, 0, 0, 0),\n",
    "    datetime(2020, 6, 8, 0, 0, 0)\n",
    "))\n",
    "plot_ts(data_anomaly, columns=[\"TP3\", \"Motor_current\", \"MPG\", \"COMP\", \"DV_eletric\"], time_window=data_anomaly.shape)\n"
   ],
   "id": "65aef6ba31ef1039",
   "outputs": [
    {
     "ename": "KeyboardInterrupt",
     "evalue": "",
     "output_type": "error",
     "traceback": [
      "\u001B[1;31m---------------------------------------------------------------------------\u001B[0m",
      "\u001B[1;31mKeyError\u001B[0m                                  Traceback (most recent call last)",
      "File \u001B[1;32m~\\AppData\\Local\\Programs\\Python\\Python310\\lib\\site-packages\\pandas\\core\\indexes\\base.py:3652\u001B[0m, in \u001B[0;36mIndex.get_loc\u001B[1;34m(self, key)\u001B[0m\n\u001B[0;32m   3651\u001B[0m \u001B[38;5;28;01mtry\u001B[39;00m:\n\u001B[1;32m-> 3652\u001B[0m     \u001B[38;5;28;01mreturn\u001B[39;00m \u001B[38;5;28;43mself\u001B[39;49m\u001B[38;5;241;43m.\u001B[39;49m\u001B[43m_engine\u001B[49m\u001B[38;5;241;43m.\u001B[39;49m\u001B[43mget_loc\u001B[49m\u001B[43m(\u001B[49m\u001B[43mcasted_key\u001B[49m\u001B[43m)\u001B[49m\n\u001B[0;32m   3653\u001B[0m \u001B[38;5;28;01mexcept\u001B[39;00m \u001B[38;5;167;01mKeyError\u001B[39;00m \u001B[38;5;28;01mas\u001B[39;00m err:\n",
      "File \u001B[1;32m~\\AppData\\Local\\Programs\\Python\\Python310\\lib\\site-packages\\pandas\\_libs\\index.pyx:147\u001B[0m, in \u001B[0;36mpandas._libs.index.IndexEngine.get_loc\u001B[1;34m()\u001B[0m\n",
      "File \u001B[1;32m~\\AppData\\Local\\Programs\\Python\\Python310\\lib\\site-packages\\pandas\\_libs\\index.pyx:176\u001B[0m, in \u001B[0;36mpandas._libs.index.IndexEngine.get_loc\u001B[1;34m()\u001B[0m\n",
      "File \u001B[1;32mpandas\\_libs\\hashtable_class_helper.pxi:2606\u001B[0m, in \u001B[0;36mpandas._libs.hashtable.Int64HashTable.get_item\u001B[1;34m()\u001B[0m\n",
      "File \u001B[1;32mpandas\\_libs\\hashtable_class_helper.pxi:2630\u001B[0m, in \u001B[0;36mpandas._libs.hashtable.Int64HashTable.get_item\u001B[1;34m()\u001B[0m\n",
      "\u001B[1;31mKeyError\u001B[0m: 89794",
      "\nDuring handling of the above exception, another exception occurred:\n",
      "\u001B[1;31mKeyboardInterrupt\u001B[0m                         Traceback (most recent call last)",
      "Cell \u001B[1;32mIn[351], line 5\u001B[0m\n\u001B[0;32m      1\u001B[0m data_anomaly \u001B[38;5;241m=\u001B[39m data\u001B[38;5;241m.\u001B[39mfilter(pl\u001B[38;5;241m.\u001B[39mcol(\u001B[38;5;124m\"\u001B[39m\u001B[38;5;124mtimestamp\u001B[39m\u001B[38;5;124m\"\u001B[39m)\u001B[38;5;241m.\u001B[39mis_between(\n\u001B[0;32m      2\u001B[0m     datetime(\u001B[38;5;241m2020\u001B[39m,\u001B[38;5;241m6\u001B[39m,\u001B[38;5;241m5\u001B[39m,\u001B[38;5;241m0\u001B[39m,\u001B[38;5;241m0\u001B[39m,\u001B[38;5;241m0\u001B[39m),\n\u001B[0;32m      3\u001B[0m     datetime(\u001B[38;5;241m2020\u001B[39m,\u001B[38;5;241m6\u001B[39m,\u001B[38;5;241m8\u001B[39m,\u001B[38;5;241m0\u001B[39m,\u001B[38;5;241m0\u001B[39m,\u001B[38;5;241m0\u001B[39m)\n\u001B[0;32m      4\u001B[0m ))\n\u001B[1;32m----> 5\u001B[0m \u001B[43mplot_ts\u001B[49m\u001B[43m(\u001B[49m\u001B[43mdata_anomaly\u001B[49m\u001B[43m,\u001B[49m\u001B[43m \u001B[49m\u001B[43mcolumns\u001B[49m\u001B[38;5;241;43m=\u001B[39;49m\u001B[43m[\u001B[49m\u001B[38;5;124;43m\"\u001B[39;49m\u001B[38;5;124;43mTP3\u001B[39;49m\u001B[38;5;124;43m\"\u001B[39;49m\u001B[43m,\u001B[49m\u001B[43m \u001B[49m\u001B[38;5;124;43m\"\u001B[39;49m\u001B[38;5;124;43mMotor_current\u001B[39;49m\u001B[38;5;124;43m\"\u001B[39;49m\u001B[43m,\u001B[49m\u001B[43m \u001B[49m\u001B[38;5;124;43m\"\u001B[39;49m\u001B[38;5;124;43mMPG\u001B[39;49m\u001B[38;5;124;43m\"\u001B[39;49m\u001B[43m,\u001B[49m\u001B[43m \u001B[49m\u001B[38;5;124;43m\"\u001B[39;49m\u001B[38;5;124;43mCOMP\u001B[39;49m\u001B[38;5;124;43m\"\u001B[39;49m\u001B[43m,\u001B[49m\u001B[43m \u001B[49m\u001B[38;5;124;43m\"\u001B[39;49m\u001B[38;5;124;43mDV_eletric\u001B[39;49m\u001B[38;5;124;43m\"\u001B[39;49m\u001B[43m]\u001B[49m\u001B[43m,\u001B[49m\u001B[43m \u001B[49m\u001B[43mtime_window\u001B[49m\u001B[38;5;241;43m=\u001B[39;49m\u001B[43mdata_anomaly\u001B[49m\u001B[38;5;241;43m.\u001B[39;49m\u001B[43mshape\u001B[49m\u001B[43m)\u001B[49m\n",
      "Cell \u001B[1;32mIn[223], line 42\u001B[0m, in \u001B[0;36mplot_ts\u001B[1;34m(data_to_plot, columns, time_window, title)\u001B[0m\n\u001B[0;32m     40\u001B[0m         values \u001B[38;5;241m=\u001B[39m data_to_plot\u001B[38;5;241m.\u001B[39mselect(c)\u001B[38;5;241m.\u001B[39mto_series()\u001B[38;5;241m.\u001B[39mto_list()[time_window[\u001B[38;5;241m0\u001B[39m]:time_window[\u001B[38;5;241m1\u001B[39m]]\n\u001B[0;32m     41\u001B[0m         \u001B[38;5;28;01mfor\u001B[39;00m i \u001B[38;5;129;01min\u001B[39;00m \u001B[38;5;28mrange\u001B[39m(\u001B[38;5;241m0\u001B[39m, number_of_points):\n\u001B[1;32m---> 42\u001B[0m             \u001B[43mdf\u001B[49m\u001B[38;5;241;43m.\u001B[39;49m\u001B[43mloc\u001B[49m\u001B[43m[\u001B[49m\u001B[43mindex\u001B[49m\u001B[43m \u001B[49m\u001B[38;5;241;43m+\u001B[39;49m\u001B[43m \u001B[49m\u001B[43mi\u001B[49m\u001B[43m]\u001B[49m \u001B[38;5;241m=\u001B[39m [i, c, values[i]]\n\u001B[0;32m     44\u001B[0m         index \u001B[38;5;241m+\u001B[39m\u001B[38;5;241m=\u001B[39m number_of_points\n\u001B[0;32m     46\u001B[0m \u001B[38;5;66;03m#Creacion de la figura con la serie temporal\u001B[39;00m\n",
      "File \u001B[1;32m~\\AppData\\Local\\Programs\\Python\\Python310\\lib\\site-packages\\pandas\\core\\indexing.py:845\u001B[0m, in \u001B[0;36m_LocationIndexer.__setitem__\u001B[1;34m(self, key, value)\u001B[0m\n\u001B[0;32m    843\u001B[0m \u001B[38;5;28;01melse\u001B[39;00m:\n\u001B[0;32m    844\u001B[0m     key \u001B[38;5;241m=\u001B[39m com\u001B[38;5;241m.\u001B[39mapply_if_callable(key, \u001B[38;5;28mself\u001B[39m\u001B[38;5;241m.\u001B[39mobj)\n\u001B[1;32m--> 845\u001B[0m indexer \u001B[38;5;241m=\u001B[39m \u001B[38;5;28;43mself\u001B[39;49m\u001B[38;5;241;43m.\u001B[39;49m\u001B[43m_get_setitem_indexer\u001B[49m\u001B[43m(\u001B[49m\u001B[43mkey\u001B[49m\u001B[43m)\u001B[49m\n\u001B[0;32m    846\u001B[0m \u001B[38;5;28mself\u001B[39m\u001B[38;5;241m.\u001B[39m_has_valid_setitem_indexer(key)\n\u001B[0;32m    848\u001B[0m iloc \u001B[38;5;241m=\u001B[39m \u001B[38;5;28mself\u001B[39m \u001B[38;5;28;01mif\u001B[39;00m \u001B[38;5;28mself\u001B[39m\u001B[38;5;241m.\u001B[39mname \u001B[38;5;241m==\u001B[39m \u001B[38;5;124m\"\u001B[39m\u001B[38;5;124miloc\u001B[39m\u001B[38;5;124m\"\u001B[39m \u001B[38;5;28;01melse\u001B[39;00m \u001B[38;5;28mself\u001B[39m\u001B[38;5;241m.\u001B[39mobj\u001B[38;5;241m.\u001B[39miloc\n",
      "File \u001B[1;32m~\\AppData\\Local\\Programs\\Python\\Python310\\lib\\site-packages\\pandas\\core\\indexing.py:716\u001B[0m, in \u001B[0;36m_LocationIndexer._get_setitem_indexer\u001B[1;34m(self, key)\u001B[0m\n\u001B[0;32m    712\u001B[0m \u001B[38;5;28;01mif\u001B[39;00m \u001B[38;5;28misinstance\u001B[39m(key, \u001B[38;5;28mrange\u001B[39m):\n\u001B[0;32m    713\u001B[0m     \u001B[38;5;66;03m# GH#45479 test_loc_setitem_range_key\u001B[39;00m\n\u001B[0;32m    714\u001B[0m     key \u001B[38;5;241m=\u001B[39m \u001B[38;5;28mlist\u001B[39m(key)\n\u001B[1;32m--> 716\u001B[0m \u001B[38;5;28;01mreturn\u001B[39;00m \u001B[38;5;28;43mself\u001B[39;49m\u001B[38;5;241;43m.\u001B[39;49m\u001B[43m_convert_to_indexer\u001B[49m\u001B[43m(\u001B[49m\u001B[43mkey\u001B[49m\u001B[43m,\u001B[49m\u001B[43m \u001B[49m\u001B[43maxis\u001B[49m\u001B[38;5;241;43m=\u001B[39;49m\u001B[38;5;241;43m0\u001B[39;49m\u001B[43m)\u001B[49m\n",
      "File \u001B[1;32m~\\AppData\\Local\\Programs\\Python\\Python310\\lib\\site-packages\\pandas\\core\\indexing.py:1397\u001B[0m, in \u001B[0;36m_LocIndexer._convert_to_indexer\u001B[1;34m(self, key, axis)\u001B[0m\n\u001B[0;32m   1392\u001B[0m \u001B[38;5;28;01mif\u001B[39;00m is_scalar(key) \u001B[38;5;129;01mor\u001B[39;00m (\u001B[38;5;28misinstance\u001B[39m(labels, MultiIndex) \u001B[38;5;129;01mand\u001B[39;00m is_hashable(key)):\n\u001B[0;32m   1393\u001B[0m     \u001B[38;5;66;03m# Otherwise get_loc will raise InvalidIndexError\u001B[39;00m\n\u001B[0;32m   1394\u001B[0m \n\u001B[0;32m   1395\u001B[0m     \u001B[38;5;66;03m# if we are a label return me\u001B[39;00m\n\u001B[0;32m   1396\u001B[0m     \u001B[38;5;28;01mtry\u001B[39;00m:\n\u001B[1;32m-> 1397\u001B[0m         \u001B[38;5;28;01mreturn\u001B[39;00m \u001B[43mlabels\u001B[49m\u001B[38;5;241;43m.\u001B[39;49m\u001B[43mget_loc\u001B[49m\u001B[43m(\u001B[49m\u001B[43mkey\u001B[49m\u001B[43m)\u001B[49m\n\u001B[0;32m   1398\u001B[0m     \u001B[38;5;28;01mexcept\u001B[39;00m \u001B[38;5;167;01mLookupError\u001B[39;00m:\n\u001B[0;32m   1399\u001B[0m         \u001B[38;5;28;01mif\u001B[39;00m \u001B[38;5;28misinstance\u001B[39m(key, \u001B[38;5;28mtuple\u001B[39m) \u001B[38;5;129;01mand\u001B[39;00m \u001B[38;5;28misinstance\u001B[39m(labels, MultiIndex):\n",
      "File \u001B[1;32m~\\AppData\\Local\\Programs\\Python\\Python310\\lib\\site-packages\\pandas\\core\\indexes\\base.py:3652\u001B[0m, in \u001B[0;36mIndex.get_loc\u001B[1;34m(self, key)\u001B[0m\n\u001B[0;32m   3650\u001B[0m casted_key \u001B[38;5;241m=\u001B[39m \u001B[38;5;28mself\u001B[39m\u001B[38;5;241m.\u001B[39m_maybe_cast_indexer(key)\n\u001B[0;32m   3651\u001B[0m \u001B[38;5;28;01mtry\u001B[39;00m:\n\u001B[1;32m-> 3652\u001B[0m     \u001B[38;5;28;01mreturn\u001B[39;00m \u001B[38;5;28;43mself\u001B[39;49m\u001B[38;5;241;43m.\u001B[39;49m\u001B[43m_engine\u001B[49m\u001B[38;5;241;43m.\u001B[39;49m\u001B[43mget_loc\u001B[49m\u001B[43m(\u001B[49m\u001B[43mcasted_key\u001B[49m\u001B[43m)\u001B[49m\n\u001B[0;32m   3653\u001B[0m \u001B[38;5;28;01mexcept\u001B[39;00m \u001B[38;5;167;01mKeyError\u001B[39;00m \u001B[38;5;28;01mas\u001B[39;00m err:\n\u001B[0;32m   3654\u001B[0m     \u001B[38;5;28;01mraise\u001B[39;00m \u001B[38;5;167;01mKeyError\u001B[39;00m(key) \u001B[38;5;28;01mfrom\u001B[39;00m \u001B[38;5;21;01merr\u001B[39;00m\n",
      "\u001B[1;31mKeyboardInterrupt\u001B[0m: "
     ]
    }
   ],
   "execution_count": 351
  },
  {
   "metadata": {},
   "cell_type": "code",
   "source": "data_cicles.select(\"timestamp\", \"Motor_current\", \"Motor_State\", \"next_motor_state\")",
   "id": "a1d683d1ad867267",
   "outputs": [],
   "execution_count": null
  },
  {
   "metadata": {},
   "cell_type": "code",
   "source": [
    "data_anomaly = data_scaled.filter(\n",
    "    pl.col(\"timestamp\").is_between(datetime.datetime(2020, 6, 7, 00, 00, 00), datetime.datetime(2020, 6, 7, 14, 30, 0)))\n",
    "plot_ts(data_anomaly, columns=[\"TP3\", \"Motor_current\", \"MPG\", \"COMP\", \"DV_eletric\"], time_window=data_anomaly.shape)\n"
   ],
   "id": "c6492a9576ef32ef",
   "outputs": [],
   "execution_count": null
  }
 ],
 "metadata": {
  "kernelspec": {
   "display_name": "Python 3",
   "language": "python",
   "name": "python3"
  },
  "language_info": {
   "codemirror_mode": {
    "name": "ipython",
    "version": 2
   },
   "file_extension": ".py",
   "mimetype": "text/x-python",
   "name": "python",
   "nbconvert_exporter": "python",
   "pygments_lexer": "ipython2",
   "version": "2.7.6"
  }
 },
 "nbformat": 4,
 "nbformat_minor": 5
}

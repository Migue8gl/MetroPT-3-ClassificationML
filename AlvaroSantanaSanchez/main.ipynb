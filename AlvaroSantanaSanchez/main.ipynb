{
 "cells": [
  {
   "metadata": {},
   "cell_type": "raw",
   "source": "",
   "id": "cb925f9acd3e9947"
  },
  {
   "cell_type": "code",
   "id": "initial_id",
   "metadata": {
    "collapsed": true
   },
   "source": [
    "from datetime import datetime, timedelta\n",
    "import polars as pl\n",
    "\n",
    "#Lectura de los datos\n",
    "data = pl.read_csv(\"../data/data.csv\")\n",
    "date_format = \"%Y-%m-%d %H:%M:%S\"\n",
    "data = data.with_columns(pl.col(\"timestamp\").str.strptime(pl.Datetime, format=date_format))\n",
    "data = data.with_columns((pl.col(\"Motor_current\") > 0.05).cast(pl.Float64).alias(\n",
    "    \"Motor_State\"))\n",
    "\n",
    "data.head(5)"
   ],
   "outputs": [],
   "execution_count": null
  },
  {
   "metadata": {},
   "cell_type": "markdown",
   "source": "SEÑALIZACIÓN DE ANOMALIAS Y PERIODOS DE TIEMPO EXTRAÑOS",
   "id": "fc6e3757d86064a"
  },
  {
   "metadata": {},
   "cell_type": "code",
   "source": [
    "anomalys = [\n",
    "    (datetime(2020, 4, 12, 11, 50, 0), datetime(2020, 4, 12, 23, 30, 0)),\n",
    "    (datetime(2020, 4, 18, 0, 0, 0), datetime(2020, 4, 18, 23, 59, 0)),\n",
    "    (datetime(2020, 4, 19, 0, 0, 0), datetime(2020, 4, 19, 1, 30, 0)),\n",
    "    (datetime(2020, 4, 29, 3, 20, 0), datetime(2020, 4, 29, 4, 0, 0)),\n",
    "    (datetime(2020, 4, 29, 22, 0, 0), datetime(2020, 4, 29, 22, 20, 0)),\n",
    "    (datetime(2020, 5, 13, 14, 0, 0), datetime(2020, 5, 13, 23, 59, 0)),\n",
    "    (datetime(2020, 5, 18, 5, 0, 0), datetime(2020, 5, 18, 5, 30, 0)),\n",
    "    (datetime(2020, 5, 19, 10, 10, 0), datetime(2020, 5, 19, 11, 0, 0)),\n",
    "    (datetime(2020, 5, 20, 0, 0, 0), datetime(2020, 5, 20, 0, 0, 0)),\n",
    "    (datetime(2020, 5, 23, 9, 50, 0), datetime(2020, 5, 23, 10, 10, 0)),\n",
    "    (datetime(2020, 5, 29, 23, 30, 0), datetime(2020, 5, 29, 23, 59, 0)),\n",
    "    (datetime(2020, 5, 30, 0, 0, 0), datetime(2020, 5, 30, 6, 0, 0)),\n",
    "    (datetime(2020, 6, 1, 15, 0, 0), datetime(2020, 6, 1, 15, 40, 0)),\n",
    "    (datetime(2020, 6, 3, 10, 0, 0), datetime(2020, 6, 3, 11, 0, 0)),\n",
    "    (datetime(2020, 6, 5, 10, 0, 0), datetime(2020, 6, 5, 23, 59, 0)),\n",
    "    (datetime(2020, 6, 6, 0, 0, 0), datetime(2020, 6, 6, 23, 59, 0)),\n",
    "    (datetime(2020, 6, 7, 0, 0, 0), datetime(2020, 6, 7, 14, 30, 0)),\n",
    "    (datetime(2020, 7, 8, 17, 30, 0), datetime(2020, 7, 8, 21, 0, 0)),\n",
    "    (datetime(2020, 7, 15, 14, 30, 0), datetime(2020, 7, 15, 19, 0, 0)),\n",
    "    (datetime(2020, 7, 17, 4, 30, 0), datetime(2020, 7, 17, 5, 30, 0)),\n",
    "]\n",
    "\n",
    "raros = [\n",
    "    #NO APARECE COMO ANOMALIA\n",
    "    (datetime(2020, 3, 6, 21, 42, 15), datetime(2020, 3, 6, 23, 14, 16)),\n",
    "    (datetime(2020, 3, 11, 5, 15, 10), datetime(2020, 3, 11, 6, 25, 33)),\n",
    "    (datetime(2020, 3, 12, 0, 15, 56), datetime(2020, 3, 12, 11, 59, 24)),\n",
    "    (datetime(2020, 3, 26, 4, 0, 20), datetime(2020, 3, 26, 5, 20, 57)),\n",
    "    (datetime(2020, 3, 27, 7, 12, 0), datetime(2020, 3, 27, 12, 1, 18)),\n",
    "    (datetime(2020, 4, 17, 8, 50, 28), datetime(2020, 4, 17, 23, 59, 36)),\n",
    "    (datetime(2020, 4, 25, 0, 7, 15), datetime(2020, 4, 25, 1, 10, 51)),\n",
    "    (datetime(2020, 5, 19, 1, 35, 28), datetime(2020, 5, 19, 2, 40, 33)),\n",
    "    (datetime(2020, 6, 12, 1, 41, 7), datetime(2020, 6, 12, 17, 6, 6)),\n",
    "    (datetime(2020, 7, 21, 13, 32, 48), datetime(2020, 7, 21, 22, 3, 16)),\n",
    "    (datetime(2020, 7, 22, 6, 40, 46), datetime(2020, 7, 22, 13, 10, 37)),\n",
    "    (datetime(2020, 7, 31, 0, 57, 33), datetime(2020, 7, 31, 2, 9, 4))\n",
    "]\n",
    "\n",
    "anomalys.extend(raros)"
   ],
   "id": "b8d57cb38f0e20e8",
   "outputs": [],
   "execution_count": null
  },
  {
   "metadata": {},
   "cell_type": "code",
   "source": [
    "def is_anomaly(instance_date, anomalys_intevals: list[datetime]):\n",
    "    flag_anomaly = False\n",
    "    index = 0\n",
    "    while not flag_anomaly and index < len(anomalys_intevals):\n",
    "        t = anomalys[index]\n",
    "        if instance_date > t[0] and instance_date < t[1]:\n",
    "            flag_anomaly = True\n",
    "        index += 1\n",
    "\n",
    "    return flag_anomaly\n",
    "\n",
    "\n",
    "data = data.with_columns(pl.col(\"timestamp\").map_elements(lambda x: is_anomaly(x, anomalys),return_dtype=pl.Boolean).alias(\"is_anomaly\"))"
   ],
   "id": "47adb858b8f38a4a",
   "outputs": [],
   "execution_count": null
  },
  {
   "metadata": {},
   "cell_type": "markdown",
   "source": [
    "## JUSTIFICACION DE TIEMPO DE CICLO\n",
    "\n",
    "Calculo del tiempo de ciclo medio sin tener en cuenta:\n",
    "\n",
    "1. Saltos temporales (sin datos)\n",
    "2. Tiempos pertenecientes a anomalías"
   ],
   "id": "2cfee29df2acc964"
  },
  {
   "metadata": {},
   "cell_type": "code",
   "source": [
    "data_no_anomaly = data.with_columns(\n",
    "    (pl.col(\"is_anomaly\").shift(-1)).alias(\"next_is_anomaly\"),\n",
    ").with_row_index(\"Id\")\n",
    "\n",
    "data_no_anomaly = data_no_anomaly.with_columns(\n",
    "    (pl.col(\"is_anomaly\") != pl.col(\"next_is_anomaly\")).alias(\"group\")\n",
    ")\n",
    "\n",
    "data_no_anomaly = data_no_anomaly.with_columns(\n",
    "    pl.col(\"group\").cum_sum().name.keep()\n",
    ")\n",
    "\n",
    "data_no_anomaly = data_no_anomaly.filter(pl.col(\"group\") % 2 == 0)\n",
    "\n",
    "#----\n",
    "data_no_jumps = data_no_anomaly.with_columns(\n",
    "    (pl.col(\"timestamp\").shift(1)).alias(\"last_date\"),\n",
    "    (pl.col(\"group\").shift(1)).alias(\"last_group\"),\n",
    ")\n",
    "\n",
    "data_no_jumps = data_no_jumps.filter(pl.col(\"group\") == pl.col(\"last_group\")).with_columns(\n",
    "    (pl.col(\"timestamp\") - pl.col(\"last_date\")).alias(\"tiempo_salto\"))\n",
    "\n",
    "data_no_jumps = data_no_jumps.with_columns(\n",
    "    (pl.col(\"tiempo_salto\") > timedelta(minutes=1)).alias(\"salto\")\n",
    ")\n",
    "\n",
    "data_no_jumps = data_no_jumps.with_columns(\n",
    "    pl.col(\"salto\").cum_sum().alias(\"salto_cumsum\")\n",
    ")\n",
    "\n",
    "data_no_jumps = data_no_jumps.with_columns(\n",
    "    (pl.col(\"group\") + pl.col(\"salto_cumsum\")).alias(\"group\")\n",
    ")\n",
    "\n",
    "#------\n",
    "data_cicles = data_no_jumps.with_columns(\n",
    "    (pl.col(\"Motor_State\").shift(-1)).alias(\"next_motor_state\"),\n",
    ").filter(\n",
    "    (pl.col(\"Motor_State\") == 0) & (pl.col(\"next_motor_state\") == 1)\n",
    ")\n",
    "\n",
    "data_cicles = data_cicles.with_columns(\n",
    "    (pl.col(\"timestamp\").shift(1)).alias(\"last_moment\"),\n",
    "    (pl.col(\"group\").shift(1)).alias(\"last_group\"),\n",
    ")\n",
    "\n",
    "data_cicles = data_cicles.filter(pl.col(\"group\") == pl.col(\"last_group\")).with_columns(\n",
    "    (pl.col(\"timestamp\") - pl.col(\"last_moment\")).alias(\"tiempo_ciclo\"))\n",
    "\n",
    "data_cicles.filter(pl.col(\"tiempo_ciclo\") == pl.col(\"tiempo_ciclo\").max())\n",
    "\n",
    "tiempo_medio_ciclos = data_cicles.select(\"tiempo_ciclo\").median().row(0)[0]\n",
    "# data_cicles.filter(pl.col(\"tiempo_ciclo\") > timedelta(minutes=60)).select(\n",
    "#     \"last_moment\",\"timestamp\",\"Id\",\"is_anomaly\"\n",
    "# )\n",
    "tiempo_medio_ciclos\n"
   ],
   "id": "3b38061bd73990a6",
   "outputs": [],
   "execution_count": null
  },
  {
   "metadata": {},
   "cell_type": "code",
   "source": [
    "import plotly.express as px\n",
    "import matplotlib.pyplot as plt\n",
    "\n",
    "def plot_ts(data_to_plot: pl.DataFrame, columns: str, time_window: tuple[int],\n",
    "            title=\"Series temporales\"):\n",
    "    \"\"\"\n",
    "    Funcion que permite plotear series temporales en distintos rangos de tiempo. Las series aparecen superpuestas y en formato HTML que permite hacer zoom.\n",
    "    \n",
    "    ...\n",
    "    \n",
    "    Attributes\n",
    "    ---\n",
    "        :param data_to_plot: Datos que plotear\n",
    "        :param columns: nombre de las columnas a seleccionar\n",
    "        :param time_window: instantes que se quieren plotear \n",
    "        :param title: titulo del graficp\n",
    "        \n",
    "    Returns\n",
    "    ---\n",
    "        Gráfico con las series temporales\n",
    "    \"\"\"\n",
    "\n",
    "    start_time, end_time = time_window\n",
    "    data_filtered = data_to_plot.filter(pl.col('timestamp').is_between(start_time, end_time))\n",
    "\n",
    "    # Crear una gráfica con Plotly para interactividad\n",
    "    plt.figure(1)\n",
    "    fig = px.line(data_filtered, x=\"timestamp\", y=columns, title=title)\n",
    "    fig.show()\n",
    "\n",
    "\n",
    "plot_ts(data, columns=[\"TP3\", \"Motor_current\", \"MPG\", \"COMP\", \"DV_eletric\"], time_window=anomalys[1])"
   ],
   "id": "df8a350e1eccea89",
   "outputs": [],
   "execution_count": null
  },
  {
   "metadata": {},
   "cell_type": "markdown",
   "source": "ESCALADO DE LOS DATOS",
   "id": "247088a86655d6b2"
  },
  {
   "metadata": {},
   "cell_type": "code",
   "source": [
    "from sklearn.preprocessing import StandardScaler\n",
    "\n",
    "Scaler = StandardScaler(with_mean=True, with_std=False)\n",
    "Scaler.fit(X=data.select(pl.col(pl.Float64)))\n",
    "data_scaled = pl.DataFrame(Scaler.transform(data.select(pl.col(pl.Float64))))\n",
    "col_names = data.select(pl.col(pl.Float64)).columns\n",
    "data_scaled.columns = col_names\n",
    "data_scaled = data.select(pl.exclude(col_names)).hstack(data_scaled)"
   ],
   "id": "755e7f5b7a22b79d",
   "outputs": [],
   "execution_count": null
  },
  {
   "metadata": {},
   "cell_type": "markdown",
   "source": "VISUALIZACION DE PERIODOS DENOMINADOS \"Raros\"",
   "id": "b798c12e600d1e0d"
  },
  {
   "metadata": {},
   "cell_type": "code",
   "source": [
    "for a in raros[0:2]:\n",
    "    data_anomaly = data.filter(pl.col(\"timestamp\").is_between(\n",
    "        a[0],\n",
    "        a[1],\n",
    "    ))\n",
    "\n",
    "    size = min(data_anomaly.shape[0], 1024)\n",
    "\n",
    "    plot_ts(data, columns=[\"TP3\", \"Motor_current\", \"MPG\", \"COMP\", \"DV_eletric\"],\n",
    "            time_window=a)\n"
   ],
   "id": "65aef6ba31ef1039",
   "outputs": [],
   "execution_count": null
  },
  {
   "metadata": {},
   "cell_type": "code",
   "source": [
    "time_ = (datetime.datetime(2020, 6, 7, 00, 00, 00), datetime.datetime(2020, 6, 7, 14, 30, 0))\n",
    "plot_ts(data_scaled, columns=[\"TP3\", \"Motor_current\", \"MPG\", \"COMP\", \"DV_eletric\"], time_window=time_)\n"
   ],
   "id": "c6492a9576ef32ef",
   "outputs": [],
   "execution_count": null
  },
  {
   "metadata": {},
   "cell_type": "markdown",
   "source": "CREACION DE GRUPOS UTILIZANDO LA MEDIANA DE TIEMPO DE CICLO",
   "id": "9393f0453f1afb4d"
  },
  {
   "metadata": {},
   "cell_type": "code",
   "source": [
    "df = data_scaled.with_columns(pl.col(\"timestamp\").diff().cum_sum().alias(\"diff\"))\n",
    "df = df.with_columns((pl.col(\"diff\").dt.total_seconds() // (tiempo_medio_ciclos.total_seconds() * 2)).alias(\"id\"))\n",
    "df = df.with_columns(pl.coalesce(pl.col(\"id\").cast(pl.UInt64), 0).alias(\"id\"))\n",
    "\n",
    "start = 50000\n",
    "end = start + 5000\n",
    "px.line(df.filter(pl.col(\"is_anomaly\") == True)[:], x=\"timestamp\", y=\"Motor_current\", color=\"id\")"
   ],
   "id": "7561cd9065045a8f",
   "outputs": [],
   "execution_count": null
  },
  {
   "metadata": {},
   "cell_type": "markdown",
   "source": [
    "# PROCESAMIENTO DE DATOS\n",
    "\n",
    "Agrupamiento de cada atributo por periodo utilizando las medidas:\n",
    "    1. Maximo\n",
    "    2. Minimo\n",
    "    3. Mediana\n",
    "    4. Media\n",
    "    "
   ],
   "id": "27c8c103ac8b3812"
  },
  {
   "metadata": {},
   "cell_type": "code",
   "source": [
    "a = ['TP2',\n",
    "     'TP3',\n",
    "     'H1',\n",
    "     'DV_pressure',\n",
    "     'Reservoirs',\n",
    "     'Oil_temperature',\n",
    "     'Motor_current',\n",
    "     'COMP',\n",
    "     'DV_eletric',\n",
    "     'Towers',\n",
    "     'MPG',\n",
    "     'LPS',\n",
    "     'Pressure_switch',\n",
    "     'Oil_level',\n",
    "     'Caudal_impulses',\n",
    "     'Motor_State']\n",
    "\n",
    "df_X = df.select(\"id\").group_by(\"id\").first()\n",
    "\n",
    "for c in a:\n",
    "    df_aux = df.group_by(\"id\").agg([\n",
    "        pl.col(f\"{c}\").mean().alias(f\"{c}_mean\"),\n",
    "        pl.col(f\"{c}\").mean().alias(f\"{c}_max\"),\n",
    "        pl.col(f\"{c}\").mean().alias(f\"{c}_min\"),\n",
    "        pl.col(f\"{c}\").mean().alias(f\"{c}_median\")\n",
    "    ])\n",
    "\n",
    "    df_X = df_X.join(df_aux, on=\"id\", how=\"left\")\n",
    "\n",
    "df_X = df_X.join(df.filter(pl.col(\"is_anomaly\") == True).group_by(\"id\").first().select(\"id\", \"is_anomaly\"), how=\"left\",\n",
    "                 on=\"id\")\n",
    "\n",
    "df_X = df_X.with_columns(pl.col(\"is_anomaly\").fill_null(False))"
   ],
   "id": "3b435c834b6da83e",
   "outputs": [],
   "execution_count": null
  },
  {
   "metadata": {},
   "cell_type": "markdown",
   "source": "CREAMOS GRUPOS DE TAMAÑO SIMILAR QUE NO MEZCLEN ANOMALIAS",
   "id": "e5a9e9ac4caf0359"
  },
  {
   "metadata": {
    "ExecuteTime": {
     "end_time": "2025-01-20T15:41:53.593756Z",
     "start_time": "2025-01-20T15:41:53.572785Z"
    }
   },
   "cell_type": "code",
   "source": [
    "#Separamos anomalias de no anomalias\n",
    "df_no_anomaly = df_X.filter(pl.col(\"is_anomaly\") == False)\n",
    "df_anomaly = df_X.filter(pl.col(\"is_anomaly\") == True)\n",
    "\n",
    "#Agrupamos las que pertenecen a una misma anomalia\n",
    "df_anomaly = df_anomaly.sort(\"id\").with_columns(pl.col(\"id\").shift(1).fill_null(0).alias(\"last_id\"))\n",
    "\n",
    "df_anomaly = df_anomaly.with_columns(((pl.col(\"id\") - pl.col(\"last_id\")) > 2).alias(\"group\"))\n",
    "\n",
    "df_anomaly = df_anomaly.with_columns(pl.col(\"group\").cum_sum())\n",
    "df_anomaly = df_anomaly.join(df_anomaly.select(\"id\", \"group\").group_by(\"group\").len(name=\"count\"),\n",
    "                             on=\"group\", how=\"inner\")\n",
    "\n",
    "#Creamos grupos de los grupos con un mismo tamaño para un k prefijado\n",
    "k = 3\n",
    "test_anomaly_size = int(df_anomaly.shape[0] / k)\n",
    "df_groups = df_anomaly.group_by(\"group\").first().select(\"group\", \"count\")\n",
    "df_groups = df_groups.sample(fraction=1, seed=0)\n",
    "\n",
    "groups = []\n",
    "for i in df_groups.to_dicts():\n",
    "    index = 0\n",
    "    flag_assigned = False\n",
    "    while index < len(groups) and not flag_assigned:\n",
    "        if groups[index][\"count\"] + i[\"count\"] < test_anomaly_size:\n",
    "            groups[index][\"group\"].append(i[\"group\"])\n",
    "            groups[index][\"count\"] += i[\"count\"]\n",
    "            flag_assigned = True\n",
    "            index = 0\n",
    "        else:\n",
    "            index += 1\n",
    "    if not flag_assigned and len(groups) >= index:\n",
    "        if len(groups) < k:\n",
    "            groups.append({\"count\": i[\"count\"], \"group\": [i[\"group\"]]})\n",
    "        else:\n",
    "            min_size = min([a[\"count\"] for a in groups])\n",
    "            for index in range(0, k):\n",
    "                if groups[index][\"count\"] == min_size:\n",
    "                    groups[index][\"group\"].append(i[\"group\"])\n",
    "                    groups[index][\"count\"] += i[\"count\"]\n",
    "                    flag_assigned = True\n",
    "                    index = 0\n",
    "\n",
    "groups"
   ],
   "id": "dd88e9797d586404",
   "outputs": [
    {
     "data": {
      "text/plain": [
       "[{'count': 94, 'group': [3, 16, 10, 12, 17, 8, 6, 15, 25, 21, 18, 2]},\n",
       " {'count': 89, 'group': [11, 20, 26, 23, 22, 24, 1, 14, 9, 27, 5, 4, 13]},\n",
       " {'count': 102, 'group': [19, 7]}]"
      ]
     },
     "execution_count": 32,
     "metadata": {},
     "output_type": "execute_result"
    }
   ],
   "execution_count": 32
  },
  {
   "metadata": {},
   "cell_type": "markdown",
   "source": "GRUPOS PARA LO QUE NO ES ANOMALIA",
   "id": "7799d619f4fce2a0"
  },
  {
   "metadata": {
    "ExecuteTime": {
     "end_time": "2025-01-20T15:42:34.875973Z",
     "start_time": "2025-01-20T15:42:34.852778Z"
    }
   },
   "cell_type": "code",
   "source": [
    "#Repetimos el proceso para las no anomalias\n",
    "df_no_anomaly = df_no_anomaly.sort(\"id\").with_columns(pl.col(\"id\").shift(1).fill_null(0).alias(\"last_id\"))\n",
    "\n",
    "df_no_anomaly = df_no_anomaly.with_columns(((pl.col(\"id\") - pl.col(\"last_id\")) > 2).alias(\"group\"))\n",
    "\n",
    "df_no_anomaly = df_no_anomaly.with_columns(pl.col(\"group\").cum_sum())\n",
    "df_no_anomaly = df_no_anomaly.join(df_no_anomaly.select(\"id\", \"group\").group_by(\"group\").len(name=\"count\"),\n",
    "                                   on=\"group\", how=\"inner\")\n",
    "\n",
    "#Creamos grupos de los grupos con un mismo tamaño para un k prefijado\n",
    "k = 3\n",
    "test_anomaly_size = int(df_no_anomaly.shape[0] / k)\n",
    "df_groups_no_anomaly = df_no_anomaly.group_by(\"group\").first().select(\"group\", \"count\")\n",
    "df_groups_no_anomaly = df_groups_no_anomaly.sample(fraction=1, seed=0)\n",
    "\n",
    "groups_no_anomaly = []\n",
    "for i in df_groups_no_anomaly.to_dicts():\n",
    "    index = 0\n",
    "    flag_assigned = False\n",
    "    while index < len(groups_no_anomaly) and not flag_assigned:\n",
    "        if groups_no_anomaly[index][\"count\"] + i[\"count\"] < test_anomaly_size:\n",
    "            groups_no_anomaly[index][\"group\"].append(i[\"group\"])\n",
    "            groups_no_anomaly[index][\"count\"] += i[\"count\"]\n",
    "            flag_assigned = True\n",
    "            index = 0\n",
    "        else:\n",
    "            index += 1\n",
    "    if not flag_assigned and len(groups_no_anomaly) >= index:\n",
    "        if len(groups_no_anomaly) < k:\n",
    "            groups_no_anomaly.append({\"count\": i[\"count\"], \"group\": [i[\"group\"]]})\n",
    "        else:\n",
    "            min_size = min([a[\"count\"] for a in groups_no_anomaly])\n",
    "            for index in range(0, k):\n",
    "                if groups_no_anomaly[index][\"count\"] == min_size:\n",
    "                    groups_no_anomaly[index][\"group\"].append(i[\"group\"])\n",
    "                    groups_no_anomaly[index][\"count\"] += i[\"count\"]\n",
    "                    flag_assigned = True\n",
    "                    index = 0\n"
   ],
   "id": "6e4599e46fa43ad3",
   "outputs": [],
   "execution_count": 35
  },
  {
   "metadata": {},
   "cell_type": "markdown",
   "source": "COMBINACION DE GRUPOS",
   "id": "290b920ec16868a2"
  },
  {
   "metadata": {
    "ExecuteTime": {
     "end_time": "2025-01-20T15:44:27.413080Z",
     "start_time": "2025-01-20T15:44:27.392961Z"
    }
   },
   "cell_type": "code",
   "source": [
    "split = 0\n",
    "df_X = df_X.with_columns(pl.lit(None).alias(\"split_where_test\"))\n",
    "for a, b in zip(groups, groups_no_anomaly):\n",
    "    split_ids = df_anomaly.filter(pl.col(\"group\").is_in(a[\"group\"]))[\"id\"].to_list() + \\\n",
    "                df_no_anomaly.filter(pl.col(\"group\").is_in(b[\"group\"]))[\"id\"].to_list()\n",
    "    df_X = df_X.with_columns(\n",
    "        pl.when((pl.col(\"id\").is_in(split_ids))).then(split).otherwise(pl.col(\"split_where_test\")).alias(\"split_where_test\"))\n",
    "    split += 1"
   ],
   "id": "6fbda18e5749803e",
   "outputs": [],
   "execution_count": 41
  },
  {
   "metadata": {
    "ExecuteTime": {
     "end_time": "2025-01-20T15:44:36.086538Z",
     "start_time": "2025-01-20T15:44:36.073537Z"
    }
   },
   "cell_type": "code",
   "source": "df_X.group_by(\"split_where_test\", \"is_anomaly\").len(name=\"count\").sort(\"split_where_test\", \"is_anomaly\")",
   "id": "2e21d6b5abf8e39b",
   "outputs": [
    {
     "data": {
      "text/plain": [
       "shape: (6, 3)\n",
       "┌──────────────────┬────────────┬───────┐\n",
       "│ split_where_test ┆ is_anomaly ┆ count │\n",
       "│ ---              ┆ ---        ┆ ---   │\n",
       "│ i32              ┆ bool       ┆ u32   │\n",
       "╞══════════════════╪════════════╪═══════╡\n",
       "│ 0                ┆ false      ┆ 1981  │\n",
       "│ 0                ┆ true       ┆ 94    │\n",
       "│ 1                ┆ false      ┆ 1981  │\n",
       "│ 1                ┆ true       ┆ 89    │\n",
       "│ 2                ┆ false      ┆ 1984  │\n",
       "│ 2                ┆ true       ┆ 102   │\n",
       "└──────────────────┴────────────┴───────┘"
      ],
      "text/html": [
       "<div><style>\n",
       ".dataframe > thead > tr,\n",
       ".dataframe > tbody > tr {\n",
       "  text-align: right;\n",
       "  white-space: pre-wrap;\n",
       "}\n",
       "</style>\n",
       "<small>shape: (6, 3)</small><table border=\"1\" class=\"dataframe\"><thead><tr><th>split_where_test</th><th>is_anomaly</th><th>count</th></tr><tr><td>i32</td><td>bool</td><td>u32</td></tr></thead><tbody><tr><td>0</td><td>false</td><td>1981</td></tr><tr><td>0</td><td>true</td><td>94</td></tr><tr><td>1</td><td>false</td><td>1981</td></tr><tr><td>1</td><td>true</td><td>89</td></tr><tr><td>2</td><td>false</td><td>1984</td></tr><tr><td>2</td><td>true</td><td>102</td></tr></tbody></table></div>"
      ]
     },
     "execution_count": 43,
     "metadata": {},
     "output_type": "execute_result"
    }
   ],
   "execution_count": 43
  }
 ],
 "metadata": {
  "kernelspec": {
   "display_name": "Python 3",
   "language": "python",
   "name": "python3"
  },
  "language_info": {
   "codemirror_mode": {
    "name": "ipython",
    "version": 2
   },
   "file_extension": ".py",
   "mimetype": "text/x-python",
   "name": "python",
   "nbconvert_exporter": "python",
   "pygments_lexer": "ipython2",
   "version": "2.7.6"
  }
 },
 "nbformat": 4,
 "nbformat_minor": 5
}

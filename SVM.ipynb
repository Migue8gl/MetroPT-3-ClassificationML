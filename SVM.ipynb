{
 "cells": [
  {
   "cell_type": "code",
   "execution_count": 8,
   "id": "546afbf4-422b-454f-ba8f-ee3028196cc8",
   "metadata": {},
   "outputs": [],
   "source": [
    "import numpy as np\n",
    "import pandas as pd\n",
    "from sklearn.svm import SVC\n",
    "from sklearn.metrics import classification_report, confusion_matrix\n",
    "from sklearn.model_selection import GridSearchCV\n",
    "from sklearn.model_selection import StratifiedKFold"
   ]
  },
  {
   "cell_type": "code",
   "execution_count": 10,
   "id": "8c790a1a-b86e-4702-842b-209505743a22",
   "metadata": {},
   "outputs": [],
   "source": [
    "#Cargar los datos de entrenamiento y test\n",
    "train = pd.read_csv('train.csv')\n",
    "test = pd.read_csv('test.csv')"
   ]
  },
  {
   "cell_type": "code",
   "execution_count": 12,
   "id": "906e0ccf-50d0-4412-898f-f9c5914ce19c",
   "metadata": {},
   "outputs": [
    {
     "data": {
      "text/plain": [
       "Index(['TP2_mean', 'TP2_max', 'TP2_min', 'TP2_median', 'TP2_var', 'TP3_mean',\n",
       "       'TP3_max', 'TP3_min', 'TP3_median', 'TP3_var', 'H1_mean', 'H1_max',\n",
       "       'H1_min', 'H1_median', 'H1_var', 'DV_pressure_mean', 'DV_pressure_max',\n",
       "       'DV_pressure_min', 'DV_pressure_median', 'DV_pressure_var',\n",
       "       'Reservoirs_mean', 'Reservoirs_max', 'Reservoirs_min',\n",
       "       'Reservoirs_median', 'Reservoirs_var', 'Oil_temperature_mean',\n",
       "       'Oil_temperature_max', 'Oil_temperature_min', 'Oil_temperature_median',\n",
       "       'Oil_temperature_var', 'Motor_current_mean', 'Motor_current_max',\n",
       "       'Motor_current_min', 'Motor_current_median', 'Motor_current_var',\n",
       "       'COMP_mean', 'COMP_max', 'COMP_min', 'COMP_median', 'COMP_var',\n",
       "       'DV_eletric_mean', 'DV_eletric_max', 'DV_eletric_min',\n",
       "       'DV_eletric_median', 'DV_eletric_var', 'Towers_mean', 'Towers_max',\n",
       "       'Towers_min', 'Towers_median', 'Towers_var', 'MPG_mean', 'MPG_max',\n",
       "       'MPG_min', 'MPG_median', 'MPG_var', 'LPS_mean', 'LPS_max', 'LPS_min',\n",
       "       'LPS_median', 'LPS_var', 'Pressure_switch_mean', 'Pressure_switch_max',\n",
       "       'Pressure_switch_min', 'Pressure_switch_median', 'Pressure_switch_var',\n",
       "       'Oil_level_mean', 'Oil_level_max', 'Oil_level_min', 'Oil_level_median',\n",
       "       'Oil_level_var', 'Caudal_impulses_mean', 'Caudal_impulses_max',\n",
       "       'Caudal_impulses_min', 'Caudal_impulses_median', 'Caudal_impulses_var',\n",
       "       'Motor_State_mean', 'Motor_State_max', 'Motor_State_min',\n",
       "       'Motor_State_median', 'Motor_State_var', 'is_anomaly', 'fold'],\n",
       "      dtype='object')"
      ]
     },
     "execution_count": 12,
     "metadata": {},
     "output_type": "execute_result"
    }
   ],
   "source": [
    "train.columns"
   ]
  },
  {
   "cell_type": "code",
   "execution_count": 14,
   "id": "512ccce3-4ccb-4b31-896d-d55d41977541",
   "metadata": {},
   "outputs": [
    {
     "data": {
      "text/plain": [
       "Index(['TP2_mean', 'TP2_max', 'TP2_min', 'TP2_median', 'TP2_var', 'TP3_mean',\n",
       "       'TP3_max', 'TP3_min', 'TP3_median', 'TP3_var', 'H1_mean', 'H1_max',\n",
       "       'H1_min', 'H1_median', 'H1_var', 'DV_pressure_mean', 'DV_pressure_max',\n",
       "       'DV_pressure_min', 'DV_pressure_median', 'DV_pressure_var',\n",
       "       'Reservoirs_mean', 'Reservoirs_max', 'Reservoirs_min',\n",
       "       'Reservoirs_median', 'Reservoirs_var', 'Oil_temperature_mean',\n",
       "       'Oil_temperature_max', 'Oil_temperature_min', 'Oil_temperature_median',\n",
       "       'Oil_temperature_var', 'Motor_current_mean', 'Motor_current_max',\n",
       "       'Motor_current_min', 'Motor_current_median', 'Motor_current_var',\n",
       "       'COMP_mean', 'COMP_max', 'COMP_min', 'COMP_median', 'COMP_var',\n",
       "       'DV_eletric_mean', 'DV_eletric_max', 'DV_eletric_min',\n",
       "       'DV_eletric_median', 'DV_eletric_var', 'Towers_mean', 'Towers_max',\n",
       "       'Towers_min', 'Towers_median', 'Towers_var', 'MPG_mean', 'MPG_max',\n",
       "       'MPG_min', 'MPG_median', 'MPG_var', 'LPS_mean', 'LPS_max', 'LPS_min',\n",
       "       'LPS_median', 'LPS_var', 'Pressure_switch_mean', 'Pressure_switch_max',\n",
       "       'Pressure_switch_min', 'Pressure_switch_median', 'Pressure_switch_var',\n",
       "       'Oil_level_mean', 'Oil_level_max', 'Oil_level_min', 'Oil_level_median',\n",
       "       'Oil_level_var', 'Caudal_impulses_mean', 'Caudal_impulses_max',\n",
       "       'Caudal_impulses_min', 'Caudal_impulses_median', 'Caudal_impulses_var',\n",
       "       'Motor_State_mean', 'Motor_State_max', 'Motor_State_min',\n",
       "       'Motor_State_median', 'Motor_State_var', 'is_anomaly'],\n",
       "      dtype='object')"
      ]
     },
     "execution_count": 14,
     "metadata": {},
     "output_type": "execute_result"
    }
   ],
   "source": [
    "test.columns"
   ]
  },
  {
   "cell_type": "code",
   "execution_count": 16,
   "id": "28c8fca9-23f5-4d8c-80af-18c3eaad7077",
   "metadata": {},
   "outputs": [
    {
     "name": "stdout",
     "output_type": "stream",
     "text": [
      "Fitting 4 folds for each of 18 candidates, totalling 72 fits\n",
      "Best Parameters: {'C': 10, 'gamma': 'auto', 'kernel': 'rbf'}\n",
      "\n",
      "Classification Report:\n",
      "               precision    recall  f1-score   support\n",
      "\n",
      "       False       0.99      1.00      0.99       557\n",
      "        True       1.00      0.77      0.87        30\n",
      "\n",
      "    accuracy                           0.99       587\n",
      "   macro avg       0.99      0.88      0.93       587\n",
      "weighted avg       0.99      0.99      0.99       587\n",
      "\n",
      "\n",
      "Confusion Matrix:\n",
      " [[557   0]\n",
      " [  7  23]]\n"
     ]
    }
   ],
   "source": [
    "# Definir los parámetros a buscar en el grid para el modelo SVM\n",
    "param_grid = {\n",
    "    'C': [0.1, 1, 10],       # Parámetro de penalización\n",
    "    'gamma': ['scale', 'auto', 0.1], \n",
    "    'kernel': ['rbf', 'linear']  # Tipos de kernel\n",
    "}\n",
    "\n",
    "# Crear un objeto StratifiedKFold para usar los folds\n",
    "skf = StratifiedKFold(n_splits=train['fold'].nunique(), shuffle=True, random_state=42)\n",
    "\n",
    "# Configurar GridSearchCV\n",
    "grid_search = GridSearchCV(\n",
    "    estimator=SVC(),\n",
    "    param_grid=param_grid,\n",
    "    scoring='accuracy',\n",
    "    cv=skf,  # Folds para la validación cruzada\n",
    "    n_jobs=-1, \n",
    "    verbose=1\n",
    ")\n",
    "\n",
    "# Entrenar el modelo con la búsqueda de hiperparámetros\n",
    "X_train = train.drop(columns=['is_anomaly', 'fold'])\n",
    "y_train = train['is_anomaly']\n",
    "\n",
    "grid_search.fit(X_train, y_train)\n",
    "\n",
    "# Evaluar el mejor modelo en el conjunto de prueba\n",
    "best_model = grid_search.best_estimator_\n",
    "X_test = test.drop(columns=['is_anomaly'])\n",
    "y_test = test['is_anomaly']\n",
    "\n",
    "y_pred_test = best_model.predict(X_test)\n",
    "\n",
    "print(\"Best Parameters:\", grid_search.best_params_)\n",
    "print(\"\\nClassification Report:\\n\", classification_report(y_test, y_pred_test))\n",
    "print(\"\\nConfusion Matrix:\\n\", confusion_matrix(y_test, y_pred_test))"
   ]
  },
  {
   "cell_type": "code",
   "execution_count": null,
   "id": "4dace709-bcc1-40cb-827c-8595a54f2928",
   "metadata": {},
   "outputs": [],
   "source": []
  }
 ],
 "metadata": {
  "kernelspec": {
   "display_name": "Python 3 (ipykernel)",
   "language": "python",
   "name": "python3"
  },
  "language_info": {
   "codemirror_mode": {
    "name": "ipython",
    "version": 3
   },
   "file_extension": ".py",
   "mimetype": "text/x-python",
   "name": "python",
   "nbconvert_exporter": "python",
   "pygments_lexer": "ipython3",
   "version": "3.12.4"
  }
 },
 "nbformat": 4,
 "nbformat_minor": 5
}
